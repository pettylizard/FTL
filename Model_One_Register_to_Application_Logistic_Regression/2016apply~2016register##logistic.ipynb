{
 "cells": [
  {
   "cell_type": "code",
   "execution_count": 1,
   "metadata": {},
   "outputs": [],
   "source": [
    "import pandas as pd\n",
    "import numpy as np"
   ]
  },
  {
   "cell_type": "markdown",
   "metadata": {},
   "source": [
    "# Data preparation"
   ]
  },
  {
   "cell_type": "code",
   "execution_count": 2,
   "metadata": {},
   "outputs": [],
   "source": [
    "df_raw = pd.read_csv('./Data_Processed_All_Contractors_Characteristics - Data2.csv')"
   ]
  },
  {
   "cell_type": "code",
   "execution_count": 3,
   "metadata": {},
   "outputs": [
    {
     "data": {
      "text/plain": [
       "59"
      ]
     },
     "execution_count": 3,
     "metadata": {},
     "output_type": "execute_result"
    }
   ],
   "source": [
    "list(df_raw.columns).index('applied 2019')"
   ]
  },
  {
   "cell_type": "markdown",
   "metadata": {},
   "source": [
    "# (1) Extract X and Y for model1: apply~register"
   ]
  },
  {
   "cell_type": "code",
   "execution_count": 4,
   "metadata": {},
   "outputs": [
    {
     "data": {
      "text/plain": [
       "Index(['year', 'train_test', 'Converted State-AL', 'Converted State-AR',\n",
       "       'Converted State-CA', 'Converted State-FL', 'Converted State-GA',\n",
       "       'Converted State-IL', 'Converted State-IN', 'Converted State-KY',\n",
       "       'Converted State-LA', 'Converted State-MI', 'Converted State-MO',\n",
       "       'Converted State-NC', 'Converted State-NJ', 'Converted State-OH',\n",
       "       'Converted State-Others', 'Converted State-PA', 'Converted State-SC',\n",
       "       'Converted State-TN', 'Converted State-TX', 'employeebucket-NA',\n",
       "       'employeebucket-4~8', 'employeebucket-<4', 'employeebucket->8',\n",
       "       'Sales between 0-99,999', 'Sales between 100,000-499,999',\n",
       "       'Other Sales', 'Sales N/A', 'Currently offers Consumer Financing?_No',\n",
       "       'Currently offers Consumer Financing?_Yes',\n",
       "       'Currently offers Consumer Financing?_N/A', 'Over 10', 'Below 10',\n",
       "       'No year info', 'Hitting Potential 16.Column3', 'JS 16.Column3',\n",
       "       'NON USER 16.Column3', 'brand_1', 'brand_2', 'brand_3', 'brand_4',\n",
       "       'brand_5', 'brand_6', 'brand_7', 'brand_8', 'applied 2016',\n",
       "       'applied 2017', 'applied 2018', 'applied 2019'],\n",
       "      dtype='object')"
      ]
     },
     "execution_count": 4,
     "metadata": {},
     "output_type": "execute_result"
    }
   ],
   "source": [
    "df_RtoA_xy_raw=df_raw.iloc[:,:60].drop(['Dealer ID','JS 17.Column3','JS 18.Column3','JS 19.Column3',\\\n",
    "                                                         'NON USER 17.Column3','NON USER 18.Column3','Velocity 17.Column3','centurty 18.Column3',\\\n",
    "                                                         'Gibson 18.Column3','No. of Employees'],axis=1)\n",
    "df_RtoA_xy_raw.columns"
   ]
  },
  {
   "cell_type": "markdown",
   "metadata": {},
   "source": [
    "# (2) Drop NaN rows"
   ]
  },
  {
   "cell_type": "code",
   "execution_count": 5,
   "metadata": {},
   "outputs": [
    {
     "name": "stdout",
     "output_type": "stream",
     "text": [
      "year                                        False\n",
      "train_test                                  False\n",
      "Converted State-AL                          False\n",
      "Converted State-AR                          False\n",
      "Converted State-CA                          False\n",
      "Converted State-FL                          False\n",
      "Converted State-GA                          False\n",
      "Converted State-IL                          False\n",
      "Converted State-IN                          False\n",
      "Converted State-KY                          False\n",
      "Converted State-LA                          False\n",
      "Converted State-MI                          False\n",
      "Converted State-MO                          False\n",
      "Converted State-NC                          False\n",
      "Converted State-NJ                          False\n",
      "Converted State-OH                          False\n",
      "Converted State-Others                      False\n",
      "Converted State-PA                          False\n",
      "Converted State-SC                          False\n",
      "Converted State-TN                          False\n",
      "Converted State-TX                          False\n",
      "employeebucket-NA                           False\n",
      "employeebucket-4~8                          False\n",
      "employeebucket-<4                           False\n",
      "employeebucket->8                           False\n",
      "Sales between 0-99,999                      False\n",
      "Sales between 100,000-499,999               False\n",
      "Other Sales                                 False\n",
      "Sales N/A                                   False\n",
      "Currently offers Consumer Financing?_No     False\n",
      "Currently offers Consumer Financing?_Yes    False\n",
      "Currently offers Consumer Financing?_N/A    False\n",
      "Over 10                                     False\n",
      "Below 10                                    False\n",
      "No year info                                False\n",
      "Hitting Potential 16.Column3                False\n",
      "JS 16.Column3                               False\n",
      "NON USER 16.Column3                         False\n",
      "brand_1                                     False\n",
      "brand_2                                     False\n",
      "brand_3                                     False\n",
      "brand_4                                     False\n",
      "brand_5                                     False\n",
      "brand_6                                     False\n",
      "brand_7                                     False\n",
      "brand_8                                     False\n",
      "applied 2016                                False\n",
      "applied 2017                                False\n",
      "applied 2018                                False\n",
      "applied 2019                                False\n",
      "dtype: bool\n"
     ]
    }
   ],
   "source": [
    "print(df_RtoA_xy_raw.isnull().any())"
   ]
  },
  {
   "cell_type": "code",
   "execution_count": 6,
   "metadata": {},
   "outputs": [],
   "source": [
    "# narow=[]\n",
    "# for i in range(df_RtoA_xy_raw.shape[0]):\n",
    "#     if df_RtoA_xy_raw[\"No. of Employees\"].isnull()[i]== True:\n",
    "#         narow.append(i)\n",
    "\n",
    "# df_RtoA_xy=df_RtoA_xy_raw.drop(narow,axis=0)\n",
    "# df_RtoA_xy[\"No. of Employees\"].isnull().any()"
   ]
  },
  {
   "cell_type": "markdown",
   "metadata": {},
   "source": [
    "# (3) Extract 2016 registered"
   ]
  },
  {
   "cell_type": "code",
   "execution_count": 7,
   "metadata": {
    "scrolled": true
   },
   "outputs": [
    {
     "data": {
      "text/html": [
       "<div>\n",
       "<style scoped>\n",
       "    .dataframe tbody tr th:only-of-type {\n",
       "        vertical-align: middle;\n",
       "    }\n",
       "\n",
       "    .dataframe tbody tr th {\n",
       "        vertical-align: top;\n",
       "    }\n",
       "\n",
       "    .dataframe thead th {\n",
       "        text-align: right;\n",
       "    }\n",
       "</style>\n",
       "<table border=\"1\" class=\"dataframe\">\n",
       "  <thead>\n",
       "    <tr style=\"text-align: right;\">\n",
       "      <th></th>\n",
       "      <th>train_test</th>\n",
       "      <th>Converted State-AL</th>\n",
       "      <th>Converted State-AR</th>\n",
       "      <th>Converted State-CA</th>\n",
       "      <th>Converted State-FL</th>\n",
       "      <th>Converted State-GA</th>\n",
       "      <th>Converted State-IL</th>\n",
       "      <th>Converted State-IN</th>\n",
       "      <th>Converted State-KY</th>\n",
       "      <th>Converted State-LA</th>\n",
       "      <th>...</th>\n",
       "      <th>NON USER 16.Column3</th>\n",
       "      <th>brand_1</th>\n",
       "      <th>brand_2</th>\n",
       "      <th>brand_3</th>\n",
       "      <th>brand_4</th>\n",
       "      <th>brand_5</th>\n",
       "      <th>brand_6</th>\n",
       "      <th>brand_7</th>\n",
       "      <th>brand_8</th>\n",
       "      <th>applied 2016</th>\n",
       "    </tr>\n",
       "  </thead>\n",
       "  <tbody>\n",
       "    <tr>\n",
       "      <th>0</th>\n",
       "      <td>1</td>\n",
       "      <td>0</td>\n",
       "      <td>0</td>\n",
       "      <td>0</td>\n",
       "      <td>0</td>\n",
       "      <td>0</td>\n",
       "      <td>0</td>\n",
       "      <td>0</td>\n",
       "      <td>0</td>\n",
       "      <td>0</td>\n",
       "      <td>...</td>\n",
       "      <td>1</td>\n",
       "      <td>1</td>\n",
       "      <td>0</td>\n",
       "      <td>1</td>\n",
       "      <td>0</td>\n",
       "      <td>0</td>\n",
       "      <td>0</td>\n",
       "      <td>0</td>\n",
       "      <td>0</td>\n",
       "      <td>1</td>\n",
       "    </tr>\n",
       "    <tr>\n",
       "      <th>1</th>\n",
       "      <td>1</td>\n",
       "      <td>0</td>\n",
       "      <td>0</td>\n",
       "      <td>0</td>\n",
       "      <td>1</td>\n",
       "      <td>0</td>\n",
       "      <td>0</td>\n",
       "      <td>0</td>\n",
       "      <td>0</td>\n",
       "      <td>0</td>\n",
       "      <td>...</td>\n",
       "      <td>1</td>\n",
       "      <td>0</td>\n",
       "      <td>1</td>\n",
       "      <td>0</td>\n",
       "      <td>1</td>\n",
       "      <td>0</td>\n",
       "      <td>0</td>\n",
       "      <td>0</td>\n",
       "      <td>0</td>\n",
       "      <td>0</td>\n",
       "    </tr>\n",
       "    <tr>\n",
       "      <th>2</th>\n",
       "      <td>0</td>\n",
       "      <td>0</td>\n",
       "      <td>0</td>\n",
       "      <td>0</td>\n",
       "      <td>0</td>\n",
       "      <td>0</td>\n",
       "      <td>1</td>\n",
       "      <td>0</td>\n",
       "      <td>0</td>\n",
       "      <td>0</td>\n",
       "      <td>...</td>\n",
       "      <td>0</td>\n",
       "      <td>0</td>\n",
       "      <td>1</td>\n",
       "      <td>0</td>\n",
       "      <td>0</td>\n",
       "      <td>0</td>\n",
       "      <td>0</td>\n",
       "      <td>1</td>\n",
       "      <td>0</td>\n",
       "      <td>0</td>\n",
       "    </tr>\n",
       "    <tr>\n",
       "      <th>3</th>\n",
       "      <td>1</td>\n",
       "      <td>0</td>\n",
       "      <td>0</td>\n",
       "      <td>0</td>\n",
       "      <td>0</td>\n",
       "      <td>0</td>\n",
       "      <td>0</td>\n",
       "      <td>0</td>\n",
       "      <td>0</td>\n",
       "      <td>0</td>\n",
       "      <td>...</td>\n",
       "      <td>1</td>\n",
       "      <td>1</td>\n",
       "      <td>0</td>\n",
       "      <td>0</td>\n",
       "      <td>1</td>\n",
       "      <td>0</td>\n",
       "      <td>0</td>\n",
       "      <td>0</td>\n",
       "      <td>0</td>\n",
       "      <td>1</td>\n",
       "    </tr>\n",
       "    <tr>\n",
       "      <th>4</th>\n",
       "      <td>1</td>\n",
       "      <td>0</td>\n",
       "      <td>0</td>\n",
       "      <td>0</td>\n",
       "      <td>0</td>\n",
       "      <td>0</td>\n",
       "      <td>0</td>\n",
       "      <td>0</td>\n",
       "      <td>0</td>\n",
       "      <td>0</td>\n",
       "      <td>...</td>\n",
       "      <td>1</td>\n",
       "      <td>0</td>\n",
       "      <td>0</td>\n",
       "      <td>0</td>\n",
       "      <td>0</td>\n",
       "      <td>0</td>\n",
       "      <td>0</td>\n",
       "      <td>1</td>\n",
       "      <td>0</td>\n",
       "      <td>0</td>\n",
       "    </tr>\n",
       "  </tbody>\n",
       "</table>\n",
       "<p>5 rows × 46 columns</p>\n",
       "</div>"
      ],
      "text/plain": [
       "   train_test  Converted State-AL  Converted State-AR  Converted State-CA  \\\n",
       "0           1                   0                   0                   0   \n",
       "1           1                   0                   0                   0   \n",
       "2           0                   0                   0                   0   \n",
       "3           1                   0                   0                   0   \n",
       "4           1                   0                   0                   0   \n",
       "\n",
       "   Converted State-FL  Converted State-GA  Converted State-IL  \\\n",
       "0                   0                   0                   0   \n",
       "1                   1                   0                   0   \n",
       "2                   0                   0                   1   \n",
       "3                   0                   0                   0   \n",
       "4                   0                   0                   0   \n",
       "\n",
       "   Converted State-IN  Converted State-KY  Converted State-LA      ...       \\\n",
       "0                   0                   0                   0      ...        \n",
       "1                   0                   0                   0      ...        \n",
       "2                   0                   0                   0      ...        \n",
       "3                   0                   0                   0      ...        \n",
       "4                   0                   0                   0      ...        \n",
       "\n",
       "   NON USER 16.Column3  brand_1  brand_2  brand_3  brand_4  brand_5  brand_6  \\\n",
       "0                    1        1        0        1        0        0        0   \n",
       "1                    1        0        1        0        1        0        0   \n",
       "2                    0        0        1        0        0        0        0   \n",
       "3                    1        1        0        0        1        0        0   \n",
       "4                    1        0        0        0        0        0        0   \n",
       "\n",
       "   brand_7  brand_8  applied 2016  \n",
       "0        0        0             1  \n",
       "1        0        0             0  \n",
       "2        1        0             0  \n",
       "3        0        0             1  \n",
       "4        1        0             0  \n",
       "\n",
       "[5 rows x 46 columns]"
      ]
     },
     "execution_count": 7,
     "metadata": {},
     "output_type": "execute_result"
    }
   ],
   "source": [
    "df_RtoA_xy_2016reg = df_RtoA_xy_raw.loc[df_raw['year'] == 2016,:].drop(['year','applied 2017','applied 2018','applied 2019'],axis=1)\n",
    "df_RtoA_xy_2016reg.head()"
   ]
  },
  {
   "cell_type": "markdown",
   "metadata": {},
   "source": [
    "# Devide into train and test data"
   ]
  },
  {
   "cell_type": "code",
   "execution_count": 8,
   "metadata": {},
   "outputs": [
    {
     "data": {
      "text/plain": [
       "1    1178\n",
       "0     295\n",
       "Name: train_test, dtype: int64"
      ]
     },
     "execution_count": 8,
     "metadata": {},
     "output_type": "execute_result"
    }
   ],
   "source": [
    "df_RtoA_xy_2016reg.train_test.value_counts()"
   ]
  },
  {
   "cell_type": "code",
   "execution_count": 9,
   "metadata": {},
   "outputs": [],
   "source": [
    "#from sklearn.model_selection import train_test_split\n",
    "#X_train, X_test, Y_train, Y_test = train_test_split(x, y, test_size=0.3, random_state=0)\n",
    "\n",
    "X_train=df_RtoA_xy_2016reg.loc[df_RtoA_xy_2016reg['train_test']==1,:'brand_8'].drop(['train_test'],axis=1)\n",
    "X_test=df_RtoA_xy_2016reg.loc[df_RtoA_xy_2016reg['train_test']==0,:'brand_8'].drop(['train_test'],axis=1)\n",
    "Y_train=df_RtoA_xy_2016reg.loc[df_RtoA_xy_2016reg['train_test']==1,'applied 2016']\n",
    "Y_test=df_RtoA_xy_2016reg.loc[df_RtoA_xy_2016reg['train_test']==0,'applied 2016']"
   ]
  },
  {
   "cell_type": "markdown",
   "metadata": {},
   "source": [
    "# Build logistic regression model (with cv)"
   ]
  },
  {
   "cell_type": "code",
   "execution_count": 10,
   "metadata": {},
   "outputs": [],
   "source": [
    "import numpy as np\n",
    "from sklearn.linear_model.logistic import LogisticRegressionCV #model building\n",
    "from sklearn.preprocessing import StandardScaler #standardize xs\n",
    "#from sklearn.model_selection import GridSearchCV #GridSearchCV: cross validation"
   ]
  },
  {
   "cell_type": "code",
   "execution_count": 11,
   "metadata": {},
   "outputs": [],
   "source": [
    "# sc = StandardScaler()\n",
    "# sc.fit(X_train)\n",
    "# X_train = sc.transform(X_train)\n",
    "# X_test = sc.transform(X_test)"
   ]
  },
  {
   "cell_type": "code",
   "execution_count": 12,
   "metadata": {},
   "outputs": [
    {
     "data": {
      "text/plain": [
       "LogisticRegressionCV(Cs=10, class_weight=None, cv=None, dual=False,\n",
       "           fit_intercept=True, intercept_scaling=1.0, max_iter=100,\n",
       "           multi_class='ovr', n_jobs=1, penalty='l2', random_state=None,\n",
       "           refit=True, scoring=None, solver='liblinear', tol=0.0001,\n",
       "           verbose=0)"
      ]
     },
     "execution_count": 12,
     "metadata": {},
     "output_type": "execute_result"
    }
   ],
   "source": [
    "logreg = LogisticRegressionCV(solver='liblinear')\n",
    "logreg.fit(X_train, Y_train)"
   ]
  },
  {
   "cell_type": "markdown",
   "metadata": {},
   "source": [
    "# Model Evaluation\n",
    "\n",
    "     1. Confusion Matrix\n",
    "     2 TP, FP, TN, FN\n",
    "     3. Accuracy Rate\n",
    "     4. PPV & NPV\n",
    "     5. Sensitivity & Specificity\n",
    "     6. F1 Score\n",
    "     **********Summary***********\n",
    "     7. Cumulative Gains Chart\n",
    "     8. AUC-ROC Curve"
   ]
  },
  {
   "cell_type": "markdown",
   "metadata": {},
   "source": [
    "# (1) Confusion Matrix"
   ]
  },
  {
   "cell_type": "code",
   "execution_count": 14,
   "metadata": {},
   "outputs": [
    {
     "data": {
      "text/plain": [
       "array([1, 0, 1, 1, 1, 0, 0, 0, 1, 0, 1, 0, 1, 0, 1, 1, 1, 0, 0, 0, 0, 1,\n",
       "       1, 1, 1, 0, 0, 1, 0, 0, 1, 1, 0, 1, 1, 1, 1, 0, 1, 1, 1, 1, 1, 1,\n",
       "       1, 1, 0, 0, 1, 1, 1, 1, 1, 1, 0, 1, 1, 0, 0, 1, 0, 0, 1, 1, 1, 1,\n",
       "       1, 0, 0, 1, 1, 0, 1, 1, 0, 1, 1, 0, 1, 1, 0, 0, 0, 1, 1, 1, 1, 1,\n",
       "       1, 1, 1, 1, 0, 0, 1, 1, 1, 1, 1, 0, 1, 1, 1, 1, 1, 0, 1, 1, 0, 0,\n",
       "       1, 1, 1, 1, 1, 0, 1, 1, 1, 1, 1, 0, 0, 1, 1, 0, 1, 0, 1, 1, 1, 1,\n",
       "       1, 1, 1, 0, 1, 1, 1, 1, 1, 1, 0, 0, 1, 0, 1, 1, 1, 0, 1, 1, 0, 0,\n",
       "       1, 0, 0, 1, 1, 0, 0, 0, 0, 1, 1, 0, 0, 1, 0, 1, 1, 1, 1, 1, 0, 1,\n",
       "       0, 1, 1, 0, 0, 1, 0, 1, 0, 1, 1, 0, 1, 1, 1, 1, 1, 0, 0, 1, 0, 1,\n",
       "       0, 1, 1, 0, 0, 1, 0, 1, 0, 1, 1, 0, 0, 1, 0, 0, 1, 1, 1, 0, 1, 1,\n",
       "       1, 1, 0, 1, 0, 1, 1, 1, 1, 0, 1, 1, 1, 1, 1, 0, 1, 1, 0, 0, 1, 1,\n",
       "       0, 0, 1, 1, 1, 1, 1, 0, 1, 0, 1, 0, 0, 1, 0, 1, 1, 1, 1, 1, 1, 0,\n",
       "       0, 1, 0, 1, 1, 1, 1, 0, 0, 0, 1, 0, 0, 1, 1, 0, 0, 0, 0, 0, 0, 0,\n",
       "       1, 0, 0, 1, 0, 0, 0, 1, 0])"
      ]
     },
     "execution_count": 14,
     "metadata": {},
     "output_type": "execute_result"
    }
   ],
   "source": [
    "pred = logreg.predict(X_test)\n",
    "pred"
   ]
  },
  {
   "cell_type": "code",
   "execution_count": 15,
   "metadata": {},
   "outputs": [
    {
     "data": {
      "text/html": [
       "<div>\n",
       "<style scoped>\n",
       "    .dataframe tbody tr th:only-of-type {\n",
       "        vertical-align: middle;\n",
       "    }\n",
       "\n",
       "    .dataframe tbody tr th {\n",
       "        vertical-align: top;\n",
       "    }\n",
       "\n",
       "    .dataframe thead th {\n",
       "        text-align: right;\n",
       "    }\n",
       "</style>\n",
       "<table border=\"1\" class=\"dataframe\">\n",
       "  <thead>\n",
       "    <tr style=\"text-align: right;\">\n",
       "      <th></th>\n",
       "      <th>pred_positive</th>\n",
       "      <th>pred_negative</th>\n",
       "    </tr>\n",
       "  </thead>\n",
       "  <tbody>\n",
       "    <tr>\n",
       "      <th>real_positive</th>\n",
       "      <td>113</td>\n",
       "      <td>69</td>\n",
       "    </tr>\n",
       "    <tr>\n",
       "      <th>real_negative</th>\n",
       "      <td>66</td>\n",
       "      <td>47</td>\n",
       "    </tr>\n",
       "  </tbody>\n",
       "</table>\n",
       "</div>"
      ],
      "text/plain": [
       "               pred_positive  pred_negative\n",
       "real_positive            113             69\n",
       "real_negative             66             47"
      ]
     },
     "execution_count": 15,
     "metadata": {},
     "output_type": "execute_result"
    }
   ],
   "source": [
    "from sklearn.metrics import confusion_matrix \n",
    "matrix = confusion_matrix(Y_test, pred, labels=None, sample_weight=None)\n",
    "tn, fp, fn, tp=matrix.ravel() #与下面计算tn, fp, fn, tp重复\n",
    "df_confusion_matrix = pd.DataFrame([[tp,fp],[tn,fn]],columns=['pred_positive','pred_negative'],index=['real_positive','real_negative'])\n",
    "df_confusion_matrix"
   ]
  },
  {
   "cell_type": "markdown",
   "metadata": {},
   "source": [
    "# (2) TP, FP, TN, FN\n",
    "\n",
    "\n",
    "Positive, Negative: 预测结果\n",
    "\n",
    "True, False: 预测是否正确"
   ]
  },
  {
   "cell_type": "markdown",
   "metadata": {},
   "source": [
    "-> Method 1: 从confusion matrix获得（见上）"
   ]
  },
  {
   "cell_type": "code",
   "execution_count": 16,
   "metadata": {},
   "outputs": [
    {
     "data": {
      "text/plain": [
       "(66, 69, 47, 113)"
      ]
     },
     "execution_count": 16,
     "metadata": {},
     "output_type": "execute_result"
    }
   ],
   "source": [
    "tn, fp, fn, tp=matrix.ravel()\n",
    "(tn, fp, fn, tp)"
   ]
  },
  {
   "cell_type": "markdown",
   "metadata": {},
   "source": [
    "-> *Method 2: 直接算"
   ]
  },
  {
   "cell_type": "code",
   "execution_count": 17,
   "metadata": {},
   "outputs": [
    {
     "data": {
      "text/html": [
       "<div>\n",
       "<style scoped>\n",
       "    .dataframe tbody tr th:only-of-type {\n",
       "        vertical-align: middle;\n",
       "    }\n",
       "\n",
       "    .dataframe tbody tr th {\n",
       "        vertical-align: top;\n",
       "    }\n",
       "\n",
       "    .dataframe thead th {\n",
       "        text-align: right;\n",
       "    }\n",
       "</style>\n",
       "<table border=\"1\" class=\"dataframe\">\n",
       "  <thead>\n",
       "    <tr style=\"text-align: right;\">\n",
       "      <th></th>\n",
       "      <th>Y_test</th>\n",
       "      <th>predict</th>\n",
       "    </tr>\n",
       "  </thead>\n",
       "  <tbody>\n",
       "    <tr>\n",
       "      <th>0</th>\n",
       "      <td>0</td>\n",
       "      <td>1</td>\n",
       "    </tr>\n",
       "    <tr>\n",
       "      <th>1</th>\n",
       "      <td>1</td>\n",
       "      <td>0</td>\n",
       "    </tr>\n",
       "    <tr>\n",
       "      <th>2</th>\n",
       "      <td>1</td>\n",
       "      <td>1</td>\n",
       "    </tr>\n",
       "    <tr>\n",
       "      <th>3</th>\n",
       "      <td>0</td>\n",
       "      <td>1</td>\n",
       "    </tr>\n",
       "    <tr>\n",
       "      <th>4</th>\n",
       "      <td>0</td>\n",
       "      <td>1</td>\n",
       "    </tr>\n",
       "  </tbody>\n",
       "</table>\n",
       "</div>"
      ],
      "text/plain": [
       "   Y_test  predict\n",
       "0       0        1\n",
       "1       1        0\n",
       "2       1        1\n",
       "3       0        1\n",
       "4       0        1"
      ]
     },
     "execution_count": 17,
     "metadata": {},
     "output_type": "execute_result"
    }
   ],
   "source": [
    "df=pd.DataFrame(pred,Y_test)\n",
    "df1=df.reset_index(inplace=False)\n",
    "df1.rename(columns={\"applied 2016\":\"Y_test\",0:\"predict\"},inplace=True)\n",
    "df1.head()"
   ]
  },
  {
   "cell_type": "code",
   "execution_count": 18,
   "metadata": {},
   "outputs": [
    {
     "data": {
      "text/plain": [
       "113"
      ]
     },
     "execution_count": 18,
     "metadata": {},
     "output_type": "execute_result"
    }
   ],
   "source": [
    "df_tp=df1.loc[(df1['Y_test']==df1['predict']) & (df1['predict']==1),:]\n",
    "tp=df_tp.shape[0]\n",
    "tp"
   ]
  },
  {
   "cell_type": "code",
   "execution_count": 19,
   "metadata": {},
   "outputs": [
    {
     "data": {
      "text/plain": [
       "66"
      ]
     },
     "execution_count": 19,
     "metadata": {},
     "output_type": "execute_result"
    }
   ],
   "source": [
    "df_tn=df1.loc[(df1['Y_test']==df1['predict']) & (df1['predict']==0),:]\n",
    "tn=df_tn.shape[0]\n",
    "tn"
   ]
  },
  {
   "cell_type": "code",
   "execution_count": 20,
   "metadata": {},
   "outputs": [
    {
     "data": {
      "text/plain": [
       "69"
      ]
     },
     "execution_count": 20,
     "metadata": {},
     "output_type": "execute_result"
    }
   ],
   "source": [
    "df_fp=df1.loc[(df1['Y_test']!=df1['predict']) & (df1['predict']==1),:]\n",
    "fp=df_fp.shape[0]\n",
    "fp"
   ]
  },
  {
   "cell_type": "code",
   "execution_count": 21,
   "metadata": {},
   "outputs": [
    {
     "data": {
      "text/plain": [
       "47"
      ]
     },
     "execution_count": 21,
     "metadata": {},
     "output_type": "execute_result"
    }
   ],
   "source": [
    "df_fn=df1.loc[(df1['Y_test']!=df1['predict']) & (df1['predict']==0),:]\n",
    "fn=df_fn.shape[0]\n",
    "fn"
   ]
  },
  {
   "cell_type": "code",
   "execution_count": 22,
   "metadata": {},
   "outputs": [
    {
     "data": {
      "text/plain": [
       "(66, 69, 47, 113)"
      ]
     },
     "execution_count": 22,
     "metadata": {},
     "output_type": "execute_result"
    }
   ],
   "source": [
    "(tn, fp, fn, tp)"
   ]
  },
  {
   "cell_type": "markdown",
   "metadata": {},
   "source": [
    "# (3) Accuracy Rate\n",
    "$$ACC=\\frac{TP+TN}{TP+TN+FP+FN}$$\n",
    "\n"
   ]
  },
  {
   "cell_type": "markdown",
   "metadata": {},
   "source": [
    "-> Method 1: 直接算"
   ]
  },
  {
   "cell_type": "code",
   "execution_count": 23,
   "metadata": {},
   "outputs": [
    {
     "data": {
      "text/plain": [
       "0.6067796610169491"
      ]
     },
     "execution_count": 23,
     "metadata": {},
     "output_type": "execute_result"
    }
   ],
   "source": [
    "acc=(tp+tn)/(tp+tn+fp+fn)\n",
    "acc"
   ]
  },
  {
   "cell_type": "markdown",
   "metadata": {},
   "source": [
    "-> Method 2: 调包"
   ]
  },
  {
   "cell_type": "code",
   "execution_count": 24,
   "metadata": {
    "scrolled": false
   },
   "outputs": [
    {
     "data": {
      "text/plain": [
       "0.6067796610169491"
      ]
     },
     "execution_count": 24,
     "metadata": {},
     "output_type": "execute_result"
    }
   ],
   "source": [
    "from sklearn.metrics import accuracy_score \n",
    "accuracy_score(Y_test,pred)"
   ]
  },
  {
   "cell_type": "markdown",
   "metadata": {},
   "source": [
    "-> Method 3: 使用模型自带方法.score"
   ]
  },
  {
   "cell_type": "code",
   "execution_count": 25,
   "metadata": {
    "scrolled": true
   },
   "outputs": [
    {
     "ename": "NameError",
     "evalue": "name 'X_test_std' is not defined",
     "output_type": "error",
     "traceback": [
      "\u001b[0;31m---------------------------------------------------------------------------\u001b[0m",
      "\u001b[0;31mNameError\u001b[0m                                 Traceback (most recent call last)",
      "\u001b[0;32m<ipython-input-25-92e27a79a6c9>\u001b[0m in \u001b[0;36m<module>\u001b[0;34m()\u001b[0m\n\u001b[0;32m----> 1\u001b[0;31m \u001b[0macc\u001b[0m \u001b[0;34m=\u001b[0m \u001b[0mlogreg\u001b[0m\u001b[0;34m.\u001b[0m\u001b[0mscore\u001b[0m\u001b[0;34m(\u001b[0m\u001b[0mX_test_std\u001b[0m\u001b[0;34m,\u001b[0m\u001b[0mY_test\u001b[0m\u001b[0;34m)\u001b[0m\u001b[0;34m\u001b[0m\u001b[0m\n\u001b[0m\u001b[1;32m      2\u001b[0m \u001b[0macc\u001b[0m\u001b[0;34m\u001b[0m\u001b[0m\n",
      "\u001b[0;31mNameError\u001b[0m: name 'X_test_std' is not defined"
     ]
    }
   ],
   "source": [
    "acc = logreg.score(X_test_std,Y_test)\n",
    "acc"
   ]
  },
  {
   "cell_type": "markdown",
   "metadata": {},
   "source": [
    "# (4) PPV & NPV\n",
    "\n",
    "描述pred中的..."
   ]
  },
  {
   "cell_type": "markdown",
   "metadata": {},
   "source": [
    "# -> PPV (Precision) :   \n",
    "pred_positive 中 real_positive \n",
    "\n",
    "$$PPV=\\frac{TP}{TP+FP}$$"
   ]
  },
  {
   "cell_type": "markdown",
   "metadata": {},
   "source": [
    "-> Method 1: 直接算"
   ]
  },
  {
   "cell_type": "code",
   "execution_count": 26,
   "metadata": {},
   "outputs": [
    {
     "data": {
      "text/plain": [
       "0.6208791208791209"
      ]
     },
     "execution_count": 26,
     "metadata": {},
     "output_type": "execute_result"
    }
   ],
   "source": [
    "ppv=tp/(tp+fp)\n",
    "ppv"
   ]
  },
  {
   "cell_type": "markdown",
   "metadata": {},
   "source": [
    "-> Method 2: 调包"
   ]
  },
  {
   "cell_type": "code",
   "execution_count": 27,
   "metadata": {},
   "outputs": [
    {
     "data": {
      "text/plain": [
       "0.6208791208791209"
      ]
     },
     "execution_count": 27,
     "metadata": {},
     "output_type": "execute_result"
    }
   ],
   "source": [
    "from sklearn.metrics import precision_score \n",
    "precision_score(Y_test,pred)"
   ]
  },
  {
   "cell_type": "markdown",
   "metadata": {},
   "source": [
    "# -> NPV: \n",
    "pred_negative 中 real_negative\n",
    "\n",
    "$$NPV=\\frac{TN}{TN+FN}$$"
   ]
  },
  {
   "cell_type": "code",
   "execution_count": 28,
   "metadata": {},
   "outputs": [
    {
     "data": {
      "text/plain": [
       "0.584070796460177"
      ]
     },
     "execution_count": 28,
     "metadata": {},
     "output_type": "execute_result"
    }
   ],
   "source": [
    "npv=tn/(tn+fn)\n",
    "npv"
   ]
  },
  {
   "cell_type": "markdown",
   "metadata": {},
   "source": [
    "# (5) Sensitivity & Specificity\n",
    "\n",
    "描述real中的..."
   ]
  },
  {
   "cell_type": "markdown",
   "metadata": {},
   "source": [
    "# -> Sensitivity (Recall) (True Positive Rate - TPR) : \n",
    "real_positive 中 pred_positive\n",
    "\n",
    "$$Sensitivity=\\frac{TP}{TP+FN}$$"
   ]
  },
  {
   "cell_type": "code",
   "execution_count": 29,
   "metadata": {},
   "outputs": [
    {
     "data": {
      "text/plain": [
       "0.70625"
      ]
     },
     "execution_count": 29,
     "metadata": {},
     "output_type": "execute_result"
    }
   ],
   "source": [
    "sen=tp/(tp+fn)\n",
    "sen"
   ]
  },
  {
   "cell_type": "markdown",
   "metadata": {},
   "source": [
    "# -> Specificity (True Negative Rate - TNR) :\n",
    "# = 1 - (False Positive Rate - FPR)\n",
    "real_negative 中 pred_negative\n",
    "\n",
    "$$Specificity=\\frac{TN}{TN+FP}$$"
   ]
  },
  {
   "cell_type": "code",
   "execution_count": 30,
   "metadata": {},
   "outputs": [
    {
     "data": {
      "text/plain": [
       "0.4888888888888889"
      ]
     },
     "execution_count": 30,
     "metadata": {},
     "output_type": "execute_result"
    }
   ],
   "source": [
    "spe=tn/(tn+fp)\n",
    "spe"
   ]
  },
  {
   "cell_type": "markdown",
   "metadata": {},
   "source": [
    "# (6) F1 Score"
   ]
  },
  {
   "cell_type": "markdown",
   "metadata": {},
   "source": [
    "$$F1=2*\\frac{Precision*Recall}{Precision+Recall}$$"
   ]
  },
  {
   "cell_type": "code",
   "execution_count": 31,
   "metadata": {},
   "outputs": [
    {
     "data": {
      "text/plain": [
       "0.6608187134502924"
      ]
     },
     "execution_count": 31,
     "metadata": {},
     "output_type": "execute_result"
    }
   ],
   "source": [
    "f1=2*ppv*sen/(ppv+sen)\n",
    "f1"
   ]
  },
  {
   "cell_type": "code",
   "execution_count": 32,
   "metadata": {},
   "outputs": [],
   "source": [
    "\n",
    "from sklearn.metrics import roc_curve, auc\n",
    "from sklearn.metrics import classification_report "
   ]
  },
  {
   "cell_type": "markdown",
   "metadata": {},
   "source": [
    "# Summary Table"
   ]
  },
  {
   "cell_type": "code",
   "execution_count": 33,
   "metadata": {},
   "outputs": [
    {
     "data": {
      "text/html": [
       "<div>\n",
       "<style scoped>\n",
       "    .dataframe tbody tr th:only-of-type {\n",
       "        vertical-align: middle;\n",
       "    }\n",
       "\n",
       "    .dataframe tbody tr th {\n",
       "        vertical-align: top;\n",
       "    }\n",
       "\n",
       "    .dataframe thead th {\n",
       "        text-align: right;\n",
       "    }\n",
       "</style>\n",
       "<table border=\"1\" class=\"dataframe\">\n",
       "  <thead>\n",
       "    <tr style=\"text-align: right;\">\n",
       "      <th></th>\n",
       "      <th>pred_positive</th>\n",
       "      <th>pred_negative</th>\n",
       "    </tr>\n",
       "  </thead>\n",
       "  <tbody>\n",
       "    <tr>\n",
       "      <th>real_positive</th>\n",
       "      <td>113</td>\n",
       "      <td>69</td>\n",
       "    </tr>\n",
       "    <tr>\n",
       "      <th>real_negative</th>\n",
       "      <td>66</td>\n",
       "      <td>47</td>\n",
       "    </tr>\n",
       "  </tbody>\n",
       "</table>\n",
       "</div>"
      ],
      "text/plain": [
       "               pred_positive  pred_negative\n",
       "real_positive            113             69\n",
       "real_negative             66             47"
      ]
     },
     "execution_count": 33,
     "metadata": {},
     "output_type": "execute_result"
    }
   ],
   "source": [
    "df_confusion_matrix"
   ]
  },
  {
   "cell_type": "code",
   "execution_count": 34,
   "metadata": {},
   "outputs": [
    {
     "data": {
      "text/html": [
       "<div>\n",
       "<style scoped>\n",
       "    .dataframe tbody tr th:only-of-type {\n",
       "        vertical-align: middle;\n",
       "    }\n",
       "\n",
       "    .dataframe tbody tr th {\n",
       "        vertical-align: top;\n",
       "    }\n",
       "\n",
       "    .dataframe thead th {\n",
       "        text-align: right;\n",
       "    }\n",
       "</style>\n",
       "<table border=\"1\" class=\"dataframe\">\n",
       "  <thead>\n",
       "    <tr style=\"text-align: right;\">\n",
       "      <th></th>\n",
       "      <th>Value_rounded</th>\n",
       "    </tr>\n",
       "  </thead>\n",
       "  <tbody>\n",
       "    <tr>\n",
       "      <th>Accuracy</th>\n",
       "      <td>0.61</td>\n",
       "    </tr>\n",
       "    <tr>\n",
       "      <th>PPV (Precision)</th>\n",
       "      <td>0.62</td>\n",
       "    </tr>\n",
       "    <tr>\n",
       "      <th>NPV</th>\n",
       "      <td>0.58</td>\n",
       "    </tr>\n",
       "    <tr>\n",
       "      <th>Sensitivity (Recall) (TPR)</th>\n",
       "      <td>0.71</td>\n",
       "    </tr>\n",
       "    <tr>\n",
       "      <th>Specificity (TNR) (1-FPR)</th>\n",
       "      <td>0.49</td>\n",
       "    </tr>\n",
       "    <tr>\n",
       "      <th>F1</th>\n",
       "      <td>0.66</td>\n",
       "    </tr>\n",
       "  </tbody>\n",
       "</table>\n",
       "</div>"
      ],
      "text/plain": [
       "                            Value_rounded\n",
       "Accuracy                             0.61\n",
       "PPV (Precision)                      0.62\n",
       "NPV                                  0.58\n",
       "Sensitivity (Recall) (TPR)           0.71\n",
       "Specificity (TNR) (1-FPR)            0.49\n",
       "F1                                   0.66"
      ]
     },
     "execution_count": 34,
     "metadata": {},
     "output_type": "execute_result"
    }
   ],
   "source": [
    "summary_tuple=(acc,ppv,npv,sen,spe,f1)\n",
    "df_summary=pd.DataFrame(list(summary_tuple),columns=['Value'],index=['Accuracy','PPV (Precision)','NPV','Sensitivity (Recall) (TPR)','Specificity (TNR) (1-FPR)','F1'])\n",
    "\n",
    "df_summary['Value_rounded']=df_summary.Value.apply(lambda x: round(x,2))\n",
    "df_summary.drop('Value',axis=1,inplace=True)\n",
    "df_summary"
   ]
  },
  {
   "cell_type": "markdown",
   "metadata": {},
   "source": [
    "# (7) Cumulative Gains Chart"
   ]
  },
  {
   "cell_type": "code",
   "execution_count": 37,
   "metadata": {
    "scrolled": true
   },
   "outputs": [
    {
     "data": {
      "text/html": [
       "<div>\n",
       "<style scoped>\n",
       "    .dataframe tbody tr th:only-of-type {\n",
       "        vertical-align: middle;\n",
       "    }\n",
       "\n",
       "    .dataframe tbody tr th {\n",
       "        vertical-align: top;\n",
       "    }\n",
       "\n",
       "    .dataframe thead th {\n",
       "        text-align: right;\n",
       "    }\n",
       "</style>\n",
       "<table border=\"1\" class=\"dataframe\">\n",
       "  <thead>\n",
       "    <tr style=\"text-align: right;\">\n",
       "      <th></th>\n",
       "      <th>Predict_Positive_Prob</th>\n",
       "      <th>Predict</th>\n",
       "      <th>Actual</th>\n",
       "      <th>Contractor_ID</th>\n",
       "      <th>True_Positive</th>\n",
       "      <th>Cumulative_True_Positive</th>\n",
       "      <th>%_Cumulative_True_Positive</th>\n",
       "      <th>%_Cumulative_Count</th>\n",
       "    </tr>\n",
       "  </thead>\n",
       "  <tbody>\n",
       "    <tr>\n",
       "      <th>0</th>\n",
       "      <td>0.598759</td>\n",
       "      <td>1</td>\n",
       "      <td>1</td>\n",
       "      <td>C15755</td>\n",
       "      <td>1</td>\n",
       "      <td>1</td>\n",
       "      <td>0.008850</td>\n",
       "      <td>0.003390</td>\n",
       "    </tr>\n",
       "    <tr>\n",
       "      <th>1</th>\n",
       "      <td>0.592988</td>\n",
       "      <td>1</td>\n",
       "      <td>1</td>\n",
       "      <td>C15625</td>\n",
       "      <td>1</td>\n",
       "      <td>2</td>\n",
       "      <td>0.017699</td>\n",
       "      <td>0.006780</td>\n",
       "    </tr>\n",
       "    <tr>\n",
       "      <th>2</th>\n",
       "      <td>0.591797</td>\n",
       "      <td>1</td>\n",
       "      <td>1</td>\n",
       "      <td>C15518</td>\n",
       "      <td>1</td>\n",
       "      <td>3</td>\n",
       "      <td>0.026549</td>\n",
       "      <td>0.010169</td>\n",
       "    </tr>\n",
       "    <tr>\n",
       "      <th>3</th>\n",
       "      <td>0.590894</td>\n",
       "      <td>1</td>\n",
       "      <td>1</td>\n",
       "      <td>C16561</td>\n",
       "      <td>1</td>\n",
       "      <td>4</td>\n",
       "      <td>0.035398</td>\n",
       "      <td>0.013559</td>\n",
       "    </tr>\n",
       "    <tr>\n",
       "      <th>4</th>\n",
       "      <td>0.590688</td>\n",
       "      <td>1</td>\n",
       "      <td>1</td>\n",
       "      <td>C15406</td>\n",
       "      <td>1</td>\n",
       "      <td>5</td>\n",
       "      <td>0.044248</td>\n",
       "      <td>0.016949</td>\n",
       "    </tr>\n",
       "    <tr>\n",
       "      <th>5</th>\n",
       "      <td>0.588105</td>\n",
       "      <td>1</td>\n",
       "      <td>0</td>\n",
       "      <td>C15893</td>\n",
       "      <td>0</td>\n",
       "      <td>5</td>\n",
       "      <td>0.044248</td>\n",
       "      <td>0.020339</td>\n",
       "    </tr>\n",
       "    <tr>\n",
       "      <th>6</th>\n",
       "      <td>0.587244</td>\n",
       "      <td>1</td>\n",
       "      <td>1</td>\n",
       "      <td>C15923</td>\n",
       "      <td>1</td>\n",
       "      <td>6</td>\n",
       "      <td>0.053097</td>\n",
       "      <td>0.023729</td>\n",
       "    </tr>\n",
       "    <tr>\n",
       "      <th>7</th>\n",
       "      <td>0.586893</td>\n",
       "      <td>1</td>\n",
       "      <td>1</td>\n",
       "      <td>C16530</td>\n",
       "      <td>1</td>\n",
       "      <td>7</td>\n",
       "      <td>0.061947</td>\n",
       "      <td>0.027119</td>\n",
       "    </tr>\n",
       "    <tr>\n",
       "      <th>8</th>\n",
       "      <td>0.586340</td>\n",
       "      <td>1</td>\n",
       "      <td>0</td>\n",
       "      <td>C15822</td>\n",
       "      <td>0</td>\n",
       "      <td>7</td>\n",
       "      <td>0.061947</td>\n",
       "      <td>0.030508</td>\n",
       "    </tr>\n",
       "    <tr>\n",
       "      <th>9</th>\n",
       "      <td>0.584532</td>\n",
       "      <td>1</td>\n",
       "      <td>1</td>\n",
       "      <td>C15493</td>\n",
       "      <td>1</td>\n",
       "      <td>8</td>\n",
       "      <td>0.070796</td>\n",
       "      <td>0.033898</td>\n",
       "    </tr>\n",
       "  </tbody>\n",
       "</table>\n",
       "</div>"
      ],
      "text/plain": [
       "   Predict_Positive_Prob  Predict  Actual Contractor_ID  True_Positive  \\\n",
       "0               0.598759        1       1        C15755              1   \n",
       "1               0.592988        1       1        C15625              1   \n",
       "2               0.591797        1       1        C15518              1   \n",
       "3               0.590894        1       1        C16561              1   \n",
       "4               0.590688        1       1        C15406              1   \n",
       "5               0.588105        1       0        C15893              0   \n",
       "6               0.587244        1       1        C15923              1   \n",
       "7               0.586893        1       1        C16530              1   \n",
       "8               0.586340        1       0        C15822              0   \n",
       "9               0.584532        1       1        C15493              1   \n",
       "\n",
       "   Cumulative_True_Positive  %_Cumulative_True_Positive  %_Cumulative_Count  \n",
       "0                         1                    0.008850            0.003390  \n",
       "1                         2                    0.017699            0.006780  \n",
       "2                         3                    0.026549            0.010169  \n",
       "3                         4                    0.035398            0.013559  \n",
       "4                         5                    0.044248            0.016949  \n",
       "5                         5                    0.044248            0.020339  \n",
       "6                         6                    0.053097            0.023729  \n",
       "7                         7                    0.061947            0.027119  \n",
       "8                         7                    0.061947            0.030508  \n",
       "9                         8                    0.070796            0.033898  "
      ]
     },
     "execution_count": 37,
     "metadata": {},
     "output_type": "execute_result"
    }
   ],
   "source": [
    "#set up dataframe of pred vs actual\n",
    "pred_prob = logreg.predict_proba(X_test)\n",
    "df_pred_positive_prob=pd.DataFrame(pred_prob).drop(0,axis=1)\n",
    "df_test_result=df_pred_positive_prob.rename(columns={1:'Predict_Positive_Prob'})\n",
    "df_test_result['Predict']=pred\n",
    "df_test_result['Actual']=Y_test.tolist()\n",
    "df_test_result['Contractor_ID']=df_raw.iloc[:,:60].drop(['JS 17.Column3','JS 18.Column3','JS 19.Column3','NON USER 17.Column3',\\\n",
    "                                                                'NON USER 18.Column3','Velocity 17.Column3','centurty 18.Column3','Gibson 18.Column3',\\\n",
    "                                                                'No. of Employees'],axis=1).dropna().loc[(df_raw['year']==2016)&(df_raw['train_test']==0),'Dealer ID'].tolist()\n",
    "\n",
    "#calculate true positive and its cumulative\n",
    "df_test_result=df_test_result.sort_values(by=[\"Predict_Positive_Prob\"],ascending=False).reset_index(drop=True)\n",
    "df_test_result[\"True_Positive\"]=df_test_result.apply(lambda x: ((x[\"Actual\"]==x[\"Predict\"]) & (x[\"Actual\"]==1))*1,axis=1)\n",
    "df_test_result[\"Cumulative_True_Positive\"]=df_test_result[\"True_Positive\"].cumsum() #numpy\n",
    "total_true_positive=df_test_result[\"True_Positive\"].sum()\n",
    "\n",
    "#calculate % cumulative true positive counts vs % ID counts (linear)\n",
    "df_test_result[\"%_Cumulative_True_Positive\"]=df_test_result[\"Cumulative_True_Positive\"]/total_true_positive\n",
    "df_test_result[\"%_Cumulative_Count\"]=df_test_result[\"Contractor_ID\"].expanding().count()/df_test_result[\"Contractor_ID\"].count() #.expanding(): pandas\n",
    "\n",
    "df_test_result.head(10)"
   ]
  },
  {
   "cell_type": "code",
   "execution_count": 38,
   "metadata": {},
   "outputs": [
    {
     "data": {
      "text/plain": [
       "Text(0,0.5,'Cumulative % True Positives')"
      ]
     },
     "execution_count": 38,
     "metadata": {},
     "output_type": "execute_result"
    },
    {
     "data": {
      "image/png": "[encoded data removed]",
      "text/plain": [
       "<Figure size 432x288 with 1 Axes>"
      ]
     },
     "metadata": {},
     "output_type": "display_data"
    }
   ],
   "source": [
    "import matplotlib.pyplot as plt\n",
    "%matplotlib inline\n",
    "plt.plot(df_test_result[\"%_Cumulative_True_Positive\"].values.tolist(),color=\"skyblue\")\n",
    "plt.plot(df_test_result[\"%_Cumulative_Count\"].values.tolist(),color=\"coral\")\n",
    "plt.xlabel('# Contractors',fontsize=12)\n",
    "plt.ylabel('Cumulative % True Positives',fontsize=12)"
   ]
  },
  {
   "cell_type": "markdown",
   "metadata": {},
   "source": [
    "# (8)  AUC-ROC Curve"
   ]
  },
  {
   "cell_type": "code",
   "execution_count": 39,
   "metadata": {},
   "outputs": [
    {
     "data": {
      "text/plain": [
       "<matplotlib.legend.Legend at 0x1083070f0>"
      ]
     },
     "execution_count": 39,
     "metadata": {},
     "output_type": "execute_result"
    },
    {
     "data": {
      "image/png": "[encoded data removed]",
      "text/plain": [
       "<Figure size 432x288 with 1 Axes>"
      ]
     },
     "metadata": {},
     "output_type": "display_data"
    }
   ],
   "source": [
    "from sklearn.metrics import roc_curve\n",
    "from sklearn.metrics import auc\n",
    "\n",
    "# Compute fpr, tpr, thresholds and roc auc\n",
    "fpr, tpr, thresholds = roc_curve(df_test_result[\"Actual\"].values.tolist(), df_test_result[\"Predict_Positive_Prob\"].values.tolist())\n",
    "roc_auc = auc(fpr,tpr)\n",
    "\n",
    "# Plot ROC curve\n",
    "plt.plot(fpr, tpr, label='ROC curve (area = %0.3f)' % roc_auc, color=\"skyblue\")\n",
    "plt.plot([0, 1], [0, 1], 'k--')  # random predictions curve\n",
    "plt.xlim([0.0, 1.0])\n",
    "plt.ylim([0.0, 1.0])\n",
    "plt.xlabel('False Positive Rate or (1 - Specifity)')\n",
    "plt.ylabel('True Positive Rate or (Sensitivity)')\n",
    "plt.title('Receiver Operating Characteristic')\n",
    "plt.legend(loc=\"lower right\")"
   ]
  }
 ],
 "metadata": {
  "kernelspec": {
   "display_name": "Python 3",
   "language": "python",
   "name": "python3"
  },
  "language_info": {
   "codemirror_mode": {
    "name": "ipython",
    "version": 3
   },
   "file_extension": ".py",
   "mimetype": "text/x-python",
   "name": "python",
   "nbconvert_exporter": "python",
   "pygments_lexer": "ipython3",
   "version": "3.6.5"
  }
 },
 "nbformat": 4,
 "nbformat_minor": 2
}
