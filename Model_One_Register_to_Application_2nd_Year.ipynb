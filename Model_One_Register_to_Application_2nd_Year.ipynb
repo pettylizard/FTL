{
 "cells": [
  {
   "cell_type": "code",
   "execution_count": 1,
   "metadata": {},
   "outputs": [],
   "source": [
    "import pandas as pd\n",
    "import numpy as np\n",
    "from sklearn.svm import SVC\n",
    "from sklearn.preprocessing import StandardScaler\n",
    "from sklearn.model_selection import GridSearchCV, train_test_split\n",
    "from sklearn.metrics import confusion_matrix\n",
    "from sklearn.metrics import accuracy_score \n",
    "from sklearn.metrics import precision_score \n",
    "from sklearn.metrics import roc_curve, auc\n",
    "from sklearn.metrics import classification_report\n",
    "import matplotlib.pyplot as plt\n",
    "import seaborn as sns\n",
    "from sklearn.metrics import roc_curve\n",
    "from sklearn.metrics import auc"
   ]
  },
  {
   "cell_type": "code",
   "execution_count": 2,
   "metadata": {},
   "outputs": [],
   "source": [
    "def encode_numeric_range(df, name, normalized_low=-1, normalized_high=1,\n",
    "                         data_low=None, data_high=None):\n",
    "    if data_low is None:\n",
    "        data_low = min(df[name])\n",
    "        data_high = max(df[name])\n",
    "\n",
    "    df[name] = ((df[name] - data_low) / (data_high - data_low)) \\\n",
    "        * (normalized_high - normalized_low) + normalized_low"
   ]
  },
  {
   "cell_type": "code",
   "execution_count": 3,
   "metadata": {},
   "outputs": [],
   "source": [
    "df_raw = pd.read_csv('./Data_Processed_All_Contractors_Characteristics - Data(New).csv')"
   ]
  },
  {
   "cell_type": "code",
   "execution_count": 5,
   "metadata": {},
   "outputs": [
    {
     "data": {
      "text/plain": [
       "(5046, 92)"
      ]
     },
     "execution_count": 5,
     "metadata": {},
     "output_type": "execute_result"
    }
   ],
   "source": [
    "df_raw.shape"
   ]
  },
  {
   "cell_type": "code",
   "execution_count": 6,
   "metadata": {},
   "outputs": [],
   "source": [
    "columns_list = list(df_raw.columns)\n",
    "def find_index(name):\n",
    "    index_num = columns_list.index(name)\n",
    "    print(index_num)"
   ]
  },
  {
   "cell_type": "code",
   "execution_count": 7,
   "metadata": {},
   "outputs": [
    {
     "data": {
      "text/plain": [
       "Index(['Dealer ID', 'year', 'train_test', 'Register_spring', 'Register_summer',\n",
       "       'Register_fall', 'Register_winter', 'Converted State-IL',\n",
       "       'Converted State-IN', 'Converted State-KY', 'Converted State-LA',\n",
       "       'Converted State-MI', 'Converted State-MO', 'Converted State-NC',\n",
       "       'Converted State-NJ', 'Converted State-OH', 'Converted State-Others',\n",
       "       'Converted State-PA', 'Converted State-SC', 'Converted State-TN',\n",
       "       'Converted State-TX', 'employeebucket-NA', 'employeebucket-4~8',\n",
       "       'employeebucket-<4', 'employeebucket->8', 'No. of Employees',\n",
       "       'Sales between 0-99,999', 'Sales between 100,000-499,999',\n",
       "       'Other Sales', 'Sales N/A', 'Currently offers Consumer Financing?_No',\n",
       "       'Currently offers Consumer Financing?_Yes',\n",
       "       'Currently offers Consumer Financing?_N/A', 'Over 10', 'Below 10',\n",
       "       'No year info', 'Gibson 18.Column3', 'Nest.Column3',\n",
       "       'Hitting Potential 16.Column3', 'JS 16.Column3', 'JS 17.Column3',\n",
       "       'JS 18.Column3', 'JS 19.Column3', 'NON USER 16.Column3',\n",
       "       'NON USER 17.Column3', 'NON USER 18.Column3', 'NON USER 19.Columns3',\n",
       "       'Velocity 17.Column3', 'centurty 18.Column3', 'brand_1', 'brand_2',\n",
       "       'brand_3', 'brand_4', 'brand_5', 'brand_6', 'brand_7', 'brand_8',\n",
       "       'applied 2016', 'applied 2017', 'applied 2018', 'applied 2019',\n",
       "       '2016_summer', '2016_winter', '2016_other', '2017_summer',\n",
       "       '2017_winter', '2017_other', '2018_summer', '2018_winter', '2018_other',\n",
       "       '2019_summer', '2019_winter', '2019_other', 'Recency',\n",
       "       'applied_in_window_12months_or_not', 'applied_in_window_6months_or_not',\n",
       "       'applied_in_window_3months_or_not', 'applied_in_window_18months_or_not',\n",
       "       'applied_in_window_2nd_12months_or_not',\n",
       "       'num_applications_1_year_after_register',\n",
       "       'num_applications_1_year_after_register_approval',\n",
       "       'num_applications_1_year_after_register_decline', 'Contractor Rating_A',\n",
       "       'Contractor Rating_B', 'Contractor Rating_C', 'Contractor Rating_U',\n",
       "       'Contractor Rating_nan', 'employeebucket_-', 'employeebucket_3~6',\n",
       "       'employeebucket_<3', 'employeebucket_>6', 'employeebucket_nan'],\n",
       "      dtype='object')"
      ]
     },
     "execution_count": 7,
     "metadata": {},
     "output_type": "execute_result"
    }
   ],
   "source": [
    "df_raw.columns"
   ]
  },
  {
   "cell_type": "code",
   "execution_count": 10,
   "metadata": {},
   "outputs": [],
   "source": [
    "xy_list = ['train_test',\n",
    "           #Geographical Data (D)\n",
    "           'Converted State-IL','Converted State-IN','Converted State-KY', 'Converted State-LA','Converted State-MI',\n",
    "           'Converted State-MO','Converted State-NC','Converted State-NJ','Converted State-OH','Converted State-Others',\n",
    "           'Converted State-PA','Converted State-SC','Converted State-TN','Converted State-TX',\n",
    "           #Sales Data (D)\n",
    "           'Sales between 0-99,999','Sales between 100,000-499,999','Other Sales', 'Sales N/A',\n",
    "           #Financing Data (D)\n",
    "           'Currently offers Consumer Financing?_No','Currently offers Consumer Financing?_Yes',\n",
    "           'Currently offers Consumer Financing?_N/A',\n",
    "           #Years in Business (D)\n",
    "           'Over 10','Below 10','No year info',\n",
    "           #Brand Data (D)\n",
    "           'brand_1','brand_2','brand_3','brand_4','brand_5','brand_6','brand_7','brand_8',\n",
    "           #Rating Data (D)\n",
    "           'Contractor Rating_A','Contractor Rating_B','Contractor Rating_C','Contractor Rating_U','Contractor Rating_nan',\n",
    "           #Number of Employees (D)\n",
    "           'employeebucket_-','employeebucket_3~6','employeebucket_<3','employeebucket_>6','employeebucket_nan',\n",
    "           #Historical Data (N)\n",
    "           'num_applications_1_year_after_register','num_applications_1_year_after_register_approval',\n",
    "           #y (Classification)\n",
    "           'applied_in_window_2nd_12months_or_not'    \n",
    "]"
   ]
  },
  {
   "cell_type": "code",
   "execution_count": 29,
   "metadata": {},
   "outputs": [
    {
     "data": {
      "text/plain": [
       "(5046, 46)"
      ]
     },
     "execution_count": 29,
     "metadata": {},
     "output_type": "execute_result"
    }
   ],
   "source": [
    "df_raw_xy = df_raw.loc[:,xy_list]\n",
    "df_raw_xy.shape"
   ]
  },
  {
   "cell_type": "code",
   "execution_count": 30,
   "metadata": {},
   "outputs": [],
   "source": [
    "features = [i for i in xy_list if i not in ['applied_in_window_2nd_12months_or_not','train_test']]\n",
    "categorical_feats = [i for i in xy_list if i not in ['num_applications_1_year_after_register',\n",
    "                                                      'num_applications_1_year_after_register_approval',\n",
    "                                                     'applied_in_window_2nd_12months_or_not','train_test']]\n",
    "numerical_feats = ['num_applications_1_year_after_register','num_applications_1_year_after_register_approval']\n",
    "df_raw_xy = df_raw_xy.loc[(df_raw_xy['num_applications_1_year_after_register'] != 'Not enough info')&\n",
    "                         (df_raw_xy['num_applications_1_year_after_register_approval'] != 'Not enough info')&\n",
    "                          (df_raw_xy['applied_in_window_2nd_12months_or_not'] != 'Not enough info')]"
   ]
  },
  {
   "cell_type": "code",
   "execution_count": 31,
   "metadata": {},
   "outputs": [
    {
     "data": {
      "text/plain": [
       "(2426, 46)"
      ]
     },
     "execution_count": 31,
     "metadata": {},
     "output_type": "execute_result"
    }
   ],
   "source": [
    "df_raw_xy.shape"
   ]
  },
  {
   "cell_type": "code",
   "execution_count": 36,
   "metadata": {},
   "outputs": [],
   "source": [
    "df_raw_xy['applied_in_window_2nd_12months_or_not'] = df_raw_xy['applied_in_window_2nd_12months_or_not'].astype(int)\n",
    "df_raw_xy['num_applications_1_year_after_register'] = df_raw_xy['num_applications_1_year_after_register'].astype(int)\n",
    "df_raw_xy['num_applications_1_year_after_register_approval'] = df_raw_xy['num_applications_1_year_after_register_approval'].astype(int)\n",
    "encode_numeric_range(df_raw_xy,'num_applications_1_year_after_register',0,1)\n",
    "encode_numeric_range(df_raw_xy,'num_applications_1_year_after_register_approval',0,1)"
   ]
  },
  {
   "cell_type": "code",
   "execution_count": 47,
   "metadata": {},
   "outputs": [],
   "source": [
    "x_train = df_raw_xy.loc[(df_raw_xy['train_test'] == 1)].iloc[:,:45].drop('train_test',axis=1).values\n",
    "y_train = df_raw_xy.loc[(df_raw_xy['train_test'] == 1)].iloc[:,45].values\n",
    "x_test = df_raw_xy.loc[(df_raw_xy['train_test'] == 0)].iloc[:,:45].drop('train_test',axis=1).values\n",
    "y_test = df_raw_xy.loc[(df_raw_xy['train_test'] == 0)].iloc[:,45].values"
   ]
  },
  {
   "cell_type": "code",
   "execution_count": 49,
   "metadata": {},
   "outputs": [],
   "source": [
    "def svm(x_train,y_train,x_test,y_test, kernel_name='rbf', c_base = 2, gamma_base = 2,grid_cv_num = 5):\n",
    "    svc = SVC(kernel=kernel_name, class_weight = 'balanced',probability=True)\n",
    "    c_range = np.logspace(-2,4,10,base=c_base)\n",
    "    gamma_range = np.logspace(-2,4,10,base=gamma_base)\n",
    "    param_grid = [{'kernel':[kernel_name],'C':c_range,'gamma':gamma_range}]\n",
    "    grid = GridSearchCV(svc,param_grid,cv=grid_cv_num,n_jobs=-1,verbose=1)\n",
    "    clf = grid.fit(x_train,y_train)\n",
    "    print(\"Best: %f using %s\" % (clf.best_score_,clf.best_params_))\n",
    "    pred = clf.predict(x_test)\n",
    "    pred_prob = clf.predict_proba(x_test)\n",
    "    pred_prob = [i[1] for i in pred_prob]\n",
    "    matrix = confusion_matrix(y_test, pred, labels=None, sample_weight=None)\n",
    "    score = grid.score(x_test,y_test)\n",
    "    print('accuracy:{}'.format(score))\n",
    "    return pred,pred_prob,matrix"
   ]
  },
  {
   "cell_type": "code",
   "execution_count": 62,
   "metadata": {},
   "outputs": [
    {
     "name": "stdout",
     "output_type": "stream",
     "text": [
      "Fitting 5 folds for each of 100 candidates, totalling 500 fits\n"
     ]
    },
    {
     "name": "stderr",
     "output_type": "stream",
     "text": [
      "[Parallel(n_jobs=-1)]: Using backend LokyBackend with 12 concurrent workers.\n",
      "[Parallel(n_jobs=-1)]: Done  26 tasks      | elapsed:    3.4s\n",
      "[Parallel(n_jobs=-1)]: Done 176 tasks      | elapsed:   18.5s\n",
      "[Parallel(n_jobs=-1)]: Done 426 tasks      | elapsed:   51.9s\n",
      "[Parallel(n_jobs=-1)]: Done 500 out of 500 | elapsed:  1.1min finished\n"
     ]
    },
    {
     "name": "stdout",
     "output_type": "stream",
     "text": [
      "Best: 0.660816 using {'C': 16.0, 'gamma': 0.25, 'kernel': 'linear'}\n",
      "accuracy:0.6850715746421268\n"
     ]
    }
   ],
   "source": [
    "pred,pred_prob,matrix = svm(x_train,y_train,x_test,y_test,'linear')"
   ]
  },
  {
   "cell_type": "code",
   "execution_count": 51,
   "metadata": {},
   "outputs": [],
   "source": [
    "def metrix_matrix(matrix):\n",
    "    df_matrix=pd.DataFrame(matrix,columns=['pred_0','pred_1'],index=['actual_0','actual_1'])\n",
    "    tn, fp, fn, tp=matrix.ravel()\n",
    "    acc=(tp+tn)/(tp+tn+fp+fn)\n",
    "    ppv=tp/(tp+fp)\n",
    "    npv=tn/(tn+fn)\n",
    "    tpr=tp/(tp+fn)\n",
    "    tnr=tn/(tn+fp)\n",
    "    summary_matrix=[acc,ppv,npv,tpr,tnr]\n",
    "    df_summary=pd.DataFrame(summary_matrix,columns=['Value'],index=['Accuracy','PPV','NPV','Sensitivity','Specificity'])\n",
    "    return df_matrix,df_summary"
   ]
  },
  {
   "cell_type": "code",
   "execution_count": 58,
   "metadata": {},
   "outputs": [],
   "source": [
    "df_matrix,df_summary = metrix_matrix(matrix)"
   ]
  },
  {
   "cell_type": "code",
   "execution_count": 59,
   "metadata": {},
   "outputs": [
    {
     "data": {
      "text/html": [
       "<div>\n",
       "<style scoped>\n",
       "    .dataframe tbody tr th:only-of-type {\n",
       "        vertical-align: middle;\n",
       "    }\n",
       "\n",
       "    .dataframe tbody tr th {\n",
       "        vertical-align: top;\n",
       "    }\n",
       "\n",
       "    .dataframe thead th {\n",
       "        text-align: right;\n",
       "    }\n",
       "</style>\n",
       "<table border=\"1\" class=\"dataframe\">\n",
       "  <thead>\n",
       "    <tr style=\"text-align: right;\">\n",
       "      <th></th>\n",
       "      <th>pred_0</th>\n",
       "      <th>pred_1</th>\n",
       "    </tr>\n",
       "  </thead>\n",
       "  <tbody>\n",
       "    <tr>\n",
       "      <th>actual_0</th>\n",
       "      <td>211</td>\n",
       "      <td>69</td>\n",
       "    </tr>\n",
       "    <tr>\n",
       "      <th>actual_1</th>\n",
       "      <td>85</td>\n",
       "      <td>124</td>\n",
       "    </tr>\n",
       "  </tbody>\n",
       "</table>\n",
       "</div>"
      ],
      "text/plain": [
       "          pred_0  pred_1\n",
       "actual_0     211      69\n",
       "actual_1      85     124"
      ]
     },
     "execution_count": 59,
     "metadata": {},
     "output_type": "execute_result"
    }
   ],
   "source": [
    "df_matrix"
   ]
  },
  {
   "cell_type": "code",
   "execution_count": 60,
   "metadata": {},
   "outputs": [
    {
     "data": {
      "text/html": [
       "<div>\n",
       "<style scoped>\n",
       "    .dataframe tbody tr th:only-of-type {\n",
       "        vertical-align: middle;\n",
       "    }\n",
       "\n",
       "    .dataframe tbody tr th {\n",
       "        vertical-align: top;\n",
       "    }\n",
       "\n",
       "    .dataframe thead th {\n",
       "        text-align: right;\n",
       "    }\n",
       "</style>\n",
       "<table border=\"1\" class=\"dataframe\">\n",
       "  <thead>\n",
       "    <tr style=\"text-align: right;\">\n",
       "      <th></th>\n",
       "      <th>Value</th>\n",
       "    </tr>\n",
       "  </thead>\n",
       "  <tbody>\n",
       "    <tr>\n",
       "      <th>Accuracy</th>\n",
       "      <td>0.685072</td>\n",
       "    </tr>\n",
       "    <tr>\n",
       "      <th>PPV</th>\n",
       "      <td>0.642487</td>\n",
       "    </tr>\n",
       "    <tr>\n",
       "      <th>NPV</th>\n",
       "      <td>0.712838</td>\n",
       "    </tr>\n",
       "    <tr>\n",
       "      <th>Sensitivity</th>\n",
       "      <td>0.593301</td>\n",
       "    </tr>\n",
       "    <tr>\n",
       "      <th>Specificity</th>\n",
       "      <td>0.753571</td>\n",
       "    </tr>\n",
       "  </tbody>\n",
       "</table>\n",
       "</div>"
      ],
      "text/plain": [
       "                Value\n",
       "Accuracy     0.685072\n",
       "PPV          0.642487\n",
       "NPV          0.712838\n",
       "Sensitivity  0.593301\n",
       "Specificity  0.753571"
      ]
     },
     "execution_count": 60,
     "metadata": {},
     "output_type": "execute_result"
    }
   ],
   "source": [
    "df_summary"
   ]
  },
  {
   "cell_type": "code",
   "execution_count": 54,
   "metadata": {},
   "outputs": [],
   "source": [
    "contractor_id = df_raw.loc[(df_raw['num_applications_1_year_after_register'] != 'Not enough info')&\n",
    "                         (df_raw['num_applications_1_year_after_register_approval'] != 'Not enough info')&\n",
    "                          (df_raw['applied_in_window_2nd_12months_or_not'] != 'Not enough info')&(df_raw['train_test'] == 0),'Dealer ID']\n",
    "actual = y_test\n",
    "predicted_prob = np.array(pred_prob)\n",
    "predicted= pred"
   ]
  },
  {
   "cell_type": "code",
   "execution_count": 55,
   "metadata": {},
   "outputs": [],
   "source": [
    "def TP(columna,columnb):\n",
    "    if columna==1 and columnb==1:\n",
    "        x=1\n",
    "    else:\n",
    "        x=0\n",
    "    return x\n",
    "\n",
    "df_result=pd.DataFrame()\n",
    "df_result[\"contractor_id\"]=contractor_id\n",
    "df_result[\"actual\"]=actual\n",
    "df_result[\"predicted\"]=predicted\n",
    "df_result[\"predicted_prob\"]=predicted_prob\n",
    "df_result=df_result.sort_values(by=[\"predicted_prob\"],ascending=False)\n",
    "df_result[\"Actual_Positive\"]=df_result.apply(lambda x: TP(x[\"actual\"],x[\"predicted\"]),axis=1)\n",
    "df_result[\"Cumulative_Positives\"]=df_result[\"Actual_Positive\"].cumsum()\n",
    "total_positives=df_result[\"Actual_Positive\"].sum()\n",
    "df_result[\"Cumulative_Positives_percent\"]=df_result[\"Cumulative_Positives\"]/total_positives\n",
    "df_result[\"Cumulative_Count\"]=df_result[\"contractor_id\"].expanding().count()/df_result[\"contractor_id\"].count()"
   ]
  },
  {
   "cell_type": "code",
   "execution_count": 56,
   "metadata": {},
   "outputs": [
    {
     "data": {
      "image/png": "[encoded data removed]",
      "text/plain": [
       "<Figure size 432x288 with 1 Axes>"
      ]
     },
     "metadata": {},
     "output_type": "display_data"
    }
   ],
   "source": [
    "plt.plot(df_result[\"Cumulative_Positives_percent\"].values.tolist())\n",
    "plt.plot(df_result[\"Cumulative_Count\"].values.tolist())\n",
    "plt.ylabel('cumulative Actual Positives Percentage')\n",
    "\n",
    "plt.show()"
   ]
  },
  {
   "cell_type": "code",
   "execution_count": 57,
   "metadata": {},
   "outputs": [
    {
     "data": {
      "text/plain": [
       "<matplotlib.legend.Legend at 0x276d4b1f0b8>"
      ]
     },
     "execution_count": 57,
     "metadata": {},
     "output_type": "execute_result"
    },
    {
     "data": {
      "image/png": "[encoded data removed]",
      "text/plain": [
       "<Figure size 432x288 with 1 Axes>"
      ]
     },
     "metadata": {},
     "output_type": "display_data"
    }
   ],
   "source": [
    "# Compute fpr, tpr, thresholds and roc auc\n",
    "fpr, tpr, thresholds = roc_curve(actual, predicted_prob,1)\n",
    "roc_auc = auc(fpr, tpr)\n",
    "\n",
    "# Plot ROC curve\n",
    "plt.plot(fpr, tpr, label='ROC curve (area = %0.3f)' % roc_auc)\n",
    "plt.plot([0, 1], [0, 1], 'k--')  # random predictions curve\n",
    "plt.xlim([0.0, 1.0])\n",
    "plt.ylim([0.0, 1.0])\n",
    "plt.xlabel('False Positive Rate or (1 - Specifity)')\n",
    "plt.ylabel('True Positive Rate or (Sensitivity)')\n",
    "plt.title('Receiver Operating Characteristic')\n",
    "plt.legend(loc=\"lower right\")"
   ]
  },
  {
   "cell_type": "markdown",
   "metadata": {},
   "source": [
    "# Boosted Tree"
   ]
  },
  {
   "cell_type": "code",
   "execution_count": 63,
   "metadata": {},
   "outputs": [],
   "source": [
    "import lightgbm as lgb\n",
    "from datetime import datetime\n",
    "import warnings\n",
    "import gc\n",
    "from bayes_opt import BayesianOptimization\n",
    "from sklearn.model_selection import KFold, GridSearchCV, train_test_split\n",
    "from sklearn.metrics import accuracy_score, confusion_matrix\n",
    "import matplotlib.pyplot as plt\n",
    "from sklearn.metrics import roc_curve\n",
    "from sklearn.metrics import auc\n",
    "import matplotlib.pyplot as plt\n",
    "import seaborn as sns"
   ]
  },
  {
   "cell_type": "code",
   "execution_count": 156,
   "metadata": {},
   "outputs": [],
   "source": [
    "df_raw_xy = df_raw.loc[:,xy_list]\n",
    "df_raw_xy = df_raw_xy.loc[(df_raw_xy['num_applications_1_year_after_register'] != 'Not enough info')&\n",
    "                         (df_raw_xy['num_applications_1_year_after_register_approval'] != 'Not enough info')&\n",
    "                          (df_raw_xy['applied_in_window_2nd_12months_or_not'] != 'Not enough info')]\n",
    "df_raw_xy['applied_in_window_2nd_12months_or_not'] = df_raw_xy['applied_in_window_2nd_12months_or_not'].astype(int)\n",
    "df_raw_xy['num_applications_1_year_after_register'] = df_raw_xy['num_applications_1_year_after_register'].astype(int)\n",
    "df_raw_xy['num_applications_1_year_after_register_approval'] = df_raw_xy['num_applications_1_year_after_register_approval'].astype(int)\n",
    "\n",
    "encode_numeric_range(df_raw_xy,'num_applications_1_year_after_register',0,1)\n",
    "encode_numeric_range(df_raw_xy,'num_applications_1_year_after_register_approval',0,1)\n",
    "\n",
    "x_train = df_raw_xy.loc[(df_raw_xy['train_test'] == 1)].iloc[:,:45].drop('train_test',axis=1)\n",
    "y_train = df_raw_xy.loc[(df_raw_xy['train_test'] == 1)].iloc[:,45]\n",
    "x_test = df_raw_xy.loc[(df_raw_xy['train_test'] == 0)].iloc[:,:45].drop('train_test',axis=1)\n",
    "y_test = df_raw_xy.loc[(df_raw_xy['train_test'] == 0)].iloc[:,45]"
   ]
  },
  {
   "cell_type": "code",
   "execution_count": 157,
   "metadata": {},
   "outputs": [],
   "source": [
    "'''\n",
    "set one function with different parameters to do parameters optimization\n",
    "'''\n",
    "def lgb_cv(num_leaves,\n",
    "           min_data_in_leaf,\n",
    "           max_depth,\n",
    "           feature_fraction,\n",
    "           bagging_fraction,\n",
    "           lambda_l1,\n",
    "          threshold):\n",
    "    folds = KFold(n_splits=5, shuffle=True, random_state=15)\n",
    "    oof = np.zeros(x_train.shape[0])\n",
    "    for fold_, (trn_idx, val_idx) in enumerate(folds.split(x_train.values, y_train.values)):\n",
    "        print(\"fold n°{}\".format(fold_))\n",
    "        trn_data = lgb.Dataset(x_train.iloc[trn_idx][features],\n",
    "                               label=y_train.iloc[trn_idx],\n",
    "                               categorical_feature=categorical_feats\n",
    "                              )\n",
    "        val_data = lgb.Dataset(x_train.iloc[val_idx][features],\n",
    "                               label=y_train.iloc[val_idx],\n",
    "                               categorical_feature=categorical_feats\n",
    "                              )\n",
    "        param = {\n",
    "            'num_leaves': int(num_leaves),\n",
    "            'min_data_in_leaf': int(min_data_in_leaf), \n",
    "            'objective':'binary',\n",
    "            'max_depth': int(max_depth),\n",
    "            'learning_rate': 0.05,\n",
    "            \"boosting\": \"gbdt\",\n",
    "            \"feature_fraction\": feature_fraction,\n",
    "            \"bagging_freq\": 1,\n",
    "            \"bagging_fraction\": bagging_fraction ,\n",
    "            \"bagging_seed\": 11,\n",
    "            \"lambda_l1\": lambda_l1,\n",
    "            \"verbosity\": -1\n",
    "        }\n",
    "    \n",
    "        clf = lgb.train(param,\n",
    "                        trn_data,\n",
    "                        10000,\n",
    "                        valid_sets = [trn_data, val_data],\n",
    "                        verbose_eval=500,\n",
    "                        early_stopping_rounds = 200)\n",
    "        \n",
    "        oof[val_idx] = clf.predict(x_train.iloc[val_idx][features],\n",
    "                                   num_iteration=clf.best_iteration)\n",
    "        del clf, trn_idx, val_idx\n",
    "        gc.collect()\n",
    "    \n",
    "    for i in range(x_train.shape[0]):\n",
    "        if oof[i] >= threshold:\n",
    "            oof[i] = 1\n",
    "        else:\n",
    "            oof[i] = 0\n",
    "\n",
    "    return accuracy_score(oof, y_train.values)"
   ]
  },
  {
   "cell_type": "code",
   "execution_count": 158,
   "metadata": {},
   "outputs": [],
   "source": [
    "'''\n",
    "use bayesian optimization to find the optimal parameters in ranges\n",
    "'''\n",
    "LGB_BO = BayesianOptimization(lgb_cv, {\n",
    "    'num_leaves': (5, 130),\n",
    "    'min_data_in_leaf': (10, 150),\n",
    "    'max_depth': (4, 10),\n",
    "    'feature_fraction': (1,1),\n",
    "    'bagging_fraction': (1,1),\n",
    "    'lambda_l1': (0, 6),\n",
    "    'threshold':(0.5,0.5),\n",
    "    })"
   ]
  },
  {
   "cell_type": "code",
   "execution_count": 159,
   "metadata": {},
   "outputs": [
    {
     "name": "stdout",
     "output_type": "stream",
     "text": [
      "|   iter    |  target   | baggin... | featur... | lambda_l1 | max_depth | min_da... | num_le... | threshold |\n",
      "-------------------------------------------------------------------------------------------------------------\n",
      "fold n°0\n",
      "Training until validation scores don't improve for 200 rounds.\n",
      "Early stopping, best iteration is:\n",
      "[66]\ttraining's binary_logloss: 0.489024\tvalid_1's binary_logloss: 0.554118\n",
      "fold n°1\n",
      "Training until validation scores don't improve for 200 rounds.\n",
      "Early stopping, best iteration is:\n",
      "[57]\ttraining's binary_logloss: 0.501203\tvalid_1's binary_logloss: 0.553084\n",
      "fold n°2\n",
      "Training until validation scores don't improve for 200 rounds.\n",
      "Early stopping, best iteration is:\n",
      "[156]\ttraining's binary_logloss: 0.469769\tvalid_1's binary_logloss: 0.519234\n",
      "fold n°3\n",
      "Training until validation scores don't improve for 200 rounds.\n",
      "Early stopping, best iteration is:\n",
      "[74]\ttraining's binary_logloss: 0.486049\tvalid_1's binary_logloss: 0.549961\n",
      "fold n°4\n",
      "Training until validation scores don't improve for 200 rounds.\n",
      "Early stopping, best iteration is:\n",
      "[54]\ttraining's binary_logloss: 0.5003\tvalid_1's binary_logloss: 0.554825\n",
      "| \u001b[0m 1       \u001b[0m | \u001b[0m 0.7408  \u001b[0m | \u001b[0m 1.0     \u001b[0m | \u001b[0m 1.0     \u001b[0m | \u001b[0m 4.063   \u001b[0m | \u001b[0m 8.43    \u001b[0m | \u001b[0m 18.71   \u001b[0m | \u001b[0m 86.45   \u001b[0m | \u001b[0m 0.5     \u001b[0m |\n",
      "fold n°0\n",
      "Training until validation scores don't improve for 200 rounds.\n",
      "Early stopping, best iteration is:\n",
      "[98]\ttraining's binary_logloss: 0.501803\tvalid_1's binary_logloss: 0.551397\n",
      "fold n°1\n",
      "Training until validation scores don't improve for 200 rounds.\n",
      "Early stopping, best iteration is:\n",
      "[68]\ttraining's binary_logloss: 0.516618\tvalid_1's binary_logloss: 0.546693\n",
      "fold n°2\n",
      "Training until validation scores don't improve for 200 rounds.\n",
      "Early stopping, best iteration is:\n",
      "[162]\ttraining's binary_logloss: 0.50184\tvalid_1's binary_logloss: 0.524275\n",
      "fold n°3\n",
      "Training until validation scores don't improve for 200 rounds.\n",
      "Early stopping, best iteration is:\n",
      "[105]\ttraining's binary_logloss: 0.506947\tvalid_1's binary_logloss: 0.534193\n",
      "fold n°4\n",
      "Training until validation scores don't improve for 200 rounds.\n",
      "Early stopping, best iteration is:\n",
      "[71]\ttraining's binary_logloss: 0.513507\tvalid_1's binary_logloss: 0.550892\n",
      "| \u001b[0m 2       \u001b[0m | \u001b[0m 0.7393  \u001b[0m | \u001b[0m 1.0     \u001b[0m | \u001b[0m 1.0     \u001b[0m | \u001b[0m 3.714   \u001b[0m | \u001b[0m 9.793   \u001b[0m | \u001b[0m 78.19   \u001b[0m | \u001b[0m 82.27   \u001b[0m | \u001b[0m 0.5     \u001b[0m |\n",
      "fold n°0\n",
      "Training until validation scores don't improve for 200 rounds.\n",
      "Early stopping, best iteration is:\n",
      "[83]\ttraining's binary_logloss: 0.52293\tvalid_1's binary_logloss: 0.550607\n",
      "fold n°1\n",
      "Training until validation scores don't improve for 200 rounds.\n",
      "Early stopping, best iteration is:\n",
      "[87]\ttraining's binary_logloss: 0.523974\tvalid_1's binary_logloss: 0.547991\n",
      "fold n°2\n",
      "Training until validation scores don't improve for 200 rounds.\n",
      "Early stopping, best iteration is:\n",
      "[163]\ttraining's binary_logloss: 0.521168\tvalid_1's binary_logloss: 0.526976\n",
      "fold n°3\n",
      "Training until validation scores don't improve for 200 rounds.\n",
      "Early stopping, best iteration is:\n",
      "[190]\ttraining's binary_logloss: 0.516819\tvalid_1's binary_logloss: 0.535857\n",
      "fold n°4\n",
      "Training until validation scores don't improve for 200 rounds.\n",
      "Early stopping, best iteration is:\n",
      "[127]\ttraining's binary_logloss: 0.517783\tvalid_1's binary_logloss: 0.54678\n",
      "| \u001b[0m 3       \u001b[0m | \u001b[0m 0.7393  \u001b[0m | \u001b[0m 1.0     \u001b[0m | \u001b[0m 1.0     \u001b[0m | \u001b[0m 5.002   \u001b[0m | \u001b[0m 6.42    \u001b[0m | \u001b[0m 10.05   \u001b[0m | \u001b[0m 5.11    \u001b[0m | \u001b[0m 0.5     \u001b[0m |\n",
      "fold n°0\n",
      "Training until validation scores don't improve for 200 rounds.\n",
      "Early stopping, best iteration is:\n",
      "[69]\ttraining's binary_logloss: 0.514088\tvalid_1's binary_logloss: 0.555857\n",
      "fold n°1\n",
      "Training until validation scores don't improve for 200 rounds.\n",
      "Early stopping, best iteration is:\n",
      "[93]\ttraining's binary_logloss: 0.509817\tvalid_1's binary_logloss: 0.551288\n",
      "fold n°2\n",
      "Training until validation scores don't improve for 200 rounds.\n",
      "Early stopping, best iteration is:\n",
      "[145]\ttraining's binary_logloss: 0.505619\tvalid_1's binary_logloss: 0.523412\n",
      "fold n°3\n",
      "Training until validation scores don't improve for 200 rounds.\n",
      "Early stopping, best iteration is:\n",
      "[151]\ttraining's binary_logloss: 0.502573\tvalid_1's binary_logloss: 0.539774\n",
      "fold n°4\n",
      "Training until validation scores don't improve for 200 rounds.\n",
      "Early stopping, best iteration is:\n",
      "[129]\ttraining's binary_logloss: 0.501601\tvalid_1's binary_logloss: 0.551055\n",
      "| \u001b[0m 4       \u001b[0m | \u001b[0m 0.7331  \u001b[0m | \u001b[0m 1.0     \u001b[0m | \u001b[0m 1.0     \u001b[0m | \u001b[0m 5.733   \u001b[0m | \u001b[0m 4.384   \u001b[0m | \u001b[0m 10.11   \u001b[0m | \u001b[0m 129.8   \u001b[0m | \u001b[0m 0.5     \u001b[0m |\n",
      "fold n°0\n",
      "Training until validation scores don't improve for 200 rounds.\n",
      "Early stopping, best iteration is:\n",
      "[35]\ttraining's binary_logloss: 0.464766\tvalid_1's binary_logloss: 0.571271\n",
      "fold n°1\n",
      "Training until validation scores don't improve for 200 rounds.\n",
      "Early stopping, best iteration is:\n",
      "[29]\ttraining's binary_logloss: 0.482758\tvalid_1's binary_logloss: 0.565626\n",
      "fold n°2\n",
      "Training until validation scores don't improve for 200 rounds.\n",
      "Early stopping, best iteration is:\n",
      "[56]\ttraining's binary_logloss: 0.436717\tvalid_1's binary_logloss: 0.524259\n",
      "fold n°3\n",
      "Training until validation scores don't improve for 200 rounds.\n",
      "Early stopping, best iteration is:\n",
      "[41]\ttraining's binary_logloss: 0.455119\tvalid_1's binary_logloss: 0.553523\n",
      "fold n°4\n",
      "Training until validation scores don't improve for 200 rounds.\n",
      "Early stopping, best iteration is:\n",
      "[37]\ttraining's binary_logloss: 0.462792\tvalid_1's binary_logloss: 0.562224\n",
      "| \u001b[0m 5       \u001b[0m | \u001b[0m 0.7259  \u001b[0m | \u001b[0m 1.0     \u001b[0m | \u001b[0m 1.0     \u001b[0m | \u001b[0m 0.005041\u001b[0m | \u001b[0m 9.544   \u001b[0m | \u001b[0m 13.62   \u001b[0m | \u001b[0m 34.18   \u001b[0m | \u001b[0m 0.5     \u001b[0m |\n",
      "fold n°0\n",
      "Training until validation scores don't improve for 200 rounds.\n",
      "Early stopping, best iteration is:\n",
      "[86]\ttraining's binary_logloss: 0.524068\tvalid_1's binary_logloss: 0.552788\n",
      "fold n°1\n",
      "Training until validation scores don't improve for 200 rounds.\n",
      "Early stopping, best iteration is:\n",
      "[143]\ttraining's binary_logloss: 0.518664\tvalid_1's binary_logloss: 0.546637\n",
      "fold n°2\n",
      "Training until validation scores don't improve for 200 rounds.\n",
      "Early stopping, best iteration is:\n",
      "[242]\ttraining's binary_logloss: 0.521439\tvalid_1's binary_logloss: 0.527561\n",
      "fold n°3\n",
      "Training until validation scores don't improve for 200 rounds.\n",
      "Early stopping, best iteration is:\n",
      "[177]\ttraining's binary_logloss: 0.520537\tvalid_1's binary_logloss: 0.533503\n",
      "fold n°4\n",
      "Training until validation scores don't improve for 200 rounds.\n",
      "Early stopping, best iteration is:\n",
      "[162]\ttraining's binary_logloss: 0.518254\tvalid_1's binary_logloss: 0.546364\n",
      "| \u001b[0m 6       \u001b[0m | \u001b[0m 0.7372  \u001b[0m | \u001b[0m 1.0     \u001b[0m | \u001b[0m 1.0     \u001b[0m | \u001b[0m 5.812   \u001b[0m | \u001b[0m 4.018   \u001b[0m | \u001b[0m 149.7   \u001b[0m | \u001b[0m 6.7     \u001b[0m | \u001b[0m 0.5     \u001b[0m |\n",
      "fold n°0\n",
      "Training until validation scores don't improve for 200 rounds.\n",
      "Early stopping, best iteration is:\n",
      "[130]\ttraining's binary_logloss: 0.505575\tvalid_1's binary_logloss: 0.550154\n",
      "fold n°1\n",
      "Training until validation scores don't improve for 200 rounds.\n",
      "Early stopping, best iteration is:\n",
      "[61]\ttraining's binary_logloss: 0.523559\tvalid_1's binary_logloss: 0.550409\n",
      "fold n°2\n",
      "Training until validation scores don't improve for 200 rounds.\n",
      "Early stopping, best iteration is:\n",
      "[180]\ttraining's binary_logloss: 0.513657\tvalid_1's binary_logloss: 0.52229\n",
      "fold n°3\n",
      "Training until validation scores don't improve for 200 rounds.\n",
      "Early stopping, best iteration is:\n",
      "[169]\ttraining's binary_logloss: 0.509833\tvalid_1's binary_logloss: 0.534487\n",
      "fold n°4\n",
      "Training until validation scores don't improve for 200 rounds.\n",
      "Early stopping, best iteration is:\n",
      "[118]\ttraining's binary_logloss: 0.507825\tvalid_1's binary_logloss: 0.550307\n",
      "| \u001b[95m 7       \u001b[0m | \u001b[95m 0.7419  \u001b[0m | \u001b[95m 1.0     \u001b[0m | \u001b[95m 1.0     \u001b[0m | \u001b[95m 5.973   \u001b[0m | \u001b[95m 4.364   \u001b[0m | \u001b[95m 52.71   \u001b[0m | \u001b[95m 63.52   \u001b[0m | \u001b[95m 0.5     \u001b[0m |\n",
      "fold n°0\n",
      "Training until validation scores don't improve for 200 rounds.\n",
      "Early stopping, best iteration is:\n",
      "[121]\ttraining's binary_logloss: 0.517889\tvalid_1's binary_logloss: 0.553521\n",
      "fold n°1\n",
      "Training until validation scores don't improve for 200 rounds.\n",
      "Early stopping, best iteration is:\n",
      "[159]\ttraining's binary_logloss: 0.516724\tvalid_1's binary_logloss: 0.546979\n",
      "fold n°2\n"
     ]
    },
    {
     "name": "stdout",
     "output_type": "stream",
     "text": [
      "Training until validation scores don't improve for 200 rounds.\n",
      "Early stopping, best iteration is:\n",
      "[199]\ttraining's binary_logloss: 0.520481\tvalid_1's binary_logloss: 0.52669\n",
      "fold n°3\n",
      "Training until validation scores don't improve for 200 rounds.\n",
      "Early stopping, best iteration is:\n",
      "[173]\ttraining's binary_logloss: 0.519129\tvalid_1's binary_logloss: 0.533503\n",
      "fold n°4\n",
      "Training until validation scores don't improve for 200 rounds.\n",
      "Early stopping, best iteration is:\n",
      "[190]\ttraining's binary_logloss: 0.515345\tvalid_1's binary_logloss: 0.546274\n",
      "| \u001b[0m 8       \u001b[0m | \u001b[0m 0.7352  \u001b[0m | \u001b[0m 1.0     \u001b[0m | \u001b[0m 1.0     \u001b[0m | \u001b[0m 5.962   \u001b[0m | \u001b[0m 9.724   \u001b[0m | \u001b[0m 148.4   \u001b[0m | \u001b[0m 127.1   \u001b[0m | \u001b[0m 0.5     \u001b[0m |\n",
      "fold n°0\n",
      "Training until validation scores don't improve for 200 rounds.\n",
      "Early stopping, best iteration is:\n",
      "[82]\ttraining's binary_logloss: 0.495503\tvalid_1's binary_logloss: 0.553256\n",
      "fold n°1\n",
      "Training until validation scores don't improve for 200 rounds.\n",
      "Early stopping, best iteration is:\n",
      "[66]\ttraining's binary_logloss: 0.507105\tvalid_1's binary_logloss: 0.550462\n",
      "fold n°2\n",
      "Training until validation scores don't improve for 200 rounds.\n",
      "Early stopping, best iteration is:\n",
      "[134]\ttraining's binary_logloss: 0.492444\tvalid_1's binary_logloss: 0.524327\n",
      "fold n°3\n",
      "Training until validation scores don't improve for 200 rounds.\n",
      "Early stopping, best iteration is:\n",
      "[147]\ttraining's binary_logloss: 0.478978\tvalid_1's binary_logloss: 0.544658\n",
      "fold n°4\n",
      "Training until validation scores don't improve for 200 rounds.\n",
      "Early stopping, best iteration is:\n",
      "[80]\ttraining's binary_logloss: 0.495892\tvalid_1's binary_logloss: 0.555366\n",
      "| \u001b[0m 9       \u001b[0m | \u001b[0m 0.7367  \u001b[0m | \u001b[0m 1.0     \u001b[0m | \u001b[0m 1.0     \u001b[0m | \u001b[0m 5.998   \u001b[0m | \u001b[0m 9.956   \u001b[0m | \u001b[0m 14.05   \u001b[0m | \u001b[0m 68.56   \u001b[0m | \u001b[0m 0.5     \u001b[0m |\n",
      "fold n°0\n",
      "Training until validation scores don't improve for 200 rounds.\n",
      "Early stopping, best iteration is:\n",
      "[127]\ttraining's binary_logloss: 0.506047\tvalid_1's binary_logloss: 0.552844\n",
      "fold n°1\n",
      "Training until validation scores don't improve for 200 rounds.\n",
      "Early stopping, best iteration is:\n",
      "[73]\ttraining's binary_logloss: 0.521223\tvalid_1's binary_logloss: 0.549128\n",
      "fold n°2\n",
      "Training until validation scores don't improve for 200 rounds.\n",
      "Early stopping, best iteration is:\n",
      "[190]\ttraining's binary_logloss: 0.512527\tvalid_1's binary_logloss: 0.523248\n",
      "fold n°3\n",
      "Training until validation scores don't improve for 200 rounds.\n",
      "Early stopping, best iteration is:\n",
      "[160]\ttraining's binary_logloss: 0.511482\tvalid_1's binary_logloss: 0.533989\n",
      "fold n°4\n",
      "Training until validation scores don't improve for 200 rounds.\n",
      "Early stopping, best iteration is:\n",
      "[133]\ttraining's binary_logloss: 0.507199\tvalid_1's binary_logloss: 0.552131\n",
      "| \u001b[0m 10      \u001b[0m | \u001b[0m 0.7408  \u001b[0m | \u001b[0m 1.0     \u001b[0m | \u001b[0m 1.0     \u001b[0m | \u001b[0m 5.793   \u001b[0m | \u001b[0m 4.005   \u001b[0m | \u001b[0m 65.17   \u001b[0m | \u001b[0m 110.6   \u001b[0m | \u001b[0m 0.5     \u001b[0m |\n",
      "fold n°0\n",
      "Training until validation scores don't improve for 200 rounds.\n",
      "Early stopping, best iteration is:\n",
      "[106]\ttraining's binary_logloss: 0.519775\tvalid_1's binary_logloss: 0.551882\n",
      "fold n°1\n",
      "Training until validation scores don't improve for 200 rounds.\n",
      "Early stopping, best iteration is:\n",
      "[157]\ttraining's binary_logloss: 0.51691\tvalid_1's binary_logloss: 0.546778\n",
      "fold n°2\n",
      "Training until validation scores don't improve for 200 rounds.\n",
      "Early stopping, best iteration is:\n",
      "[227]\ttraining's binary_logloss: 0.520675\tvalid_1's binary_logloss: 0.52734\n",
      "fold n°3\n",
      "Training until validation scores don't improve for 200 rounds.\n",
      "Early stopping, best iteration is:\n",
      "[200]\ttraining's binary_logloss: 0.518098\tvalid_1's binary_logloss: 0.531877\n",
      "fold n°4\n",
      "Training until validation scores don't improve for 200 rounds.\n",
      "Early stopping, best iteration is:\n",
      "[165]\ttraining's binary_logloss: 0.517332\tvalid_1's binary_logloss: 0.545497\n",
      "| \u001b[0m 11      \u001b[0m | \u001b[0m 0.7352  \u001b[0m | \u001b[0m 1.0     \u001b[0m | \u001b[0m 1.0     \u001b[0m | \u001b[0m 5.658   \u001b[0m | \u001b[0m 4.009   \u001b[0m | \u001b[0m 148.7   \u001b[0m | \u001b[0m 73.63   \u001b[0m | \u001b[0m 0.5     \u001b[0m |\n",
      "fold n°0\n",
      "Training until validation scores don't improve for 200 rounds.\n",
      "Early stopping, best iteration is:\n",
      "[86]\ttraining's binary_logloss: 0.524848\tvalid_1's binary_logloss: 0.55082\n",
      "fold n°1\n",
      "Training until validation scores don't improve for 200 rounds.\n",
      "Early stopping, best iteration is:\n",
      "[65]\ttraining's binary_logloss: 0.531487\tvalid_1's binary_logloss: 0.553061\n",
      "fold n°2\n",
      "Training until validation scores don't improve for 200 rounds.\n",
      "Early stopping, best iteration is:\n",
      "[207]\ttraining's binary_logloss: 0.522371\tvalid_1's binary_logloss: 0.526998\n",
      "fold n°3\n",
      "Training until validation scores don't improve for 200 rounds.\n",
      "Early stopping, best iteration is:\n",
      "[180]\ttraining's binary_logloss: 0.522497\tvalid_1's binary_logloss: 0.535425\n",
      "fold n°4\n",
      "Training until validation scores don't improve for 200 rounds.\n",
      "Early stopping, best iteration is:\n",
      "[125]\ttraining's binary_logloss: 0.520795\tvalid_1's binary_logloss: 0.548943\n",
      "| \u001b[0m 12      \u001b[0m | \u001b[0m 0.7346  \u001b[0m | \u001b[0m 1.0     \u001b[0m | \u001b[0m 1.0     \u001b[0m | \u001b[0m 5.87    \u001b[0m | \u001b[0m 4.252   \u001b[0m | \u001b[0m 86.03   \u001b[0m | \u001b[0m 5.036   \u001b[0m | \u001b[0m 0.5     \u001b[0m |\n",
      "fold n°0\n",
      "Training until validation scores don't improve for 200 rounds.\n",
      "Early stopping, best iteration is:\n",
      "[119]\ttraining's binary_logloss: 0.504705\tvalid_1's binary_logloss: 0.554104\n",
      "fold n°1\n",
      "Training until validation scores don't improve for 200 rounds.\n",
      "Early stopping, best iteration is:\n",
      "[61]\ttraining's binary_logloss: 0.521263\tvalid_1's binary_logloss: 0.5519\n",
      "fold n°2\n",
      "Training until validation scores don't improve for 200 rounds.\n",
      "Early stopping, best iteration is:\n",
      "[165]\ttraining's binary_logloss: 0.509789\tvalid_1's binary_logloss: 0.522836\n",
      "fold n°3\n",
      "Training until validation scores don't improve for 200 rounds.\n",
      "Early stopping, best iteration is:\n",
      "[161]\ttraining's binary_logloss: 0.505945\tvalid_1's binary_logloss: 0.535117\n",
      "fold n°4\n",
      "Training until validation scores don't improve for 200 rounds.\n",
      "Early stopping, best iteration is:\n",
      "[123]\ttraining's binary_logloss: 0.505663\tvalid_1's binary_logloss: 0.550231\n",
      "| \u001b[0m 13      \u001b[0m | \u001b[0m 0.7367  \u001b[0m | \u001b[0m 1.0     \u001b[0m | \u001b[0m 1.0     \u001b[0m | \u001b[0m 5.848   \u001b[0m | \u001b[0m 4.416   \u001b[0m | \u001b[0m 38.75   \u001b[0m | \u001b[0m 90.39   \u001b[0m | \u001b[0m 0.5     \u001b[0m |\n",
      "fold n°0\n",
      "Training until validation scores don't improve for 200 rounds.\n",
      "Early stopping, best iteration is:\n",
      "[42]\ttraining's binary_logloss: 0.528347\tvalid_1's binary_logloss: 0.554625\n",
      "fold n°1\n",
      "Training until validation scores don't improve for 200 rounds.\n",
      "Early stopping, best iteration is:\n",
      "[73]\ttraining's binary_logloss: 0.515064\tvalid_1's binary_logloss: 0.550682\n",
      "fold n°2\n",
      "Training until validation scores don't improve for 200 rounds.\n",
      "Early stopping, best iteration is:\n",
      "[121]\ttraining's binary_logloss: 0.509939\tvalid_1's binary_logloss: 0.525396\n",
      "fold n°3\n",
      "Training until validation scores don't improve for 200 rounds.\n",
      "Early stopping, best iteration is:\n",
      "[116]\ttraining's binary_logloss: 0.508828\tvalid_1's binary_logloss: 0.531951\n",
      "fold n°4\n",
      "Training until validation scores don't improve for 200 rounds.\n",
      "Early stopping, best iteration is:\n",
      "[76]\ttraining's binary_logloss: 0.513843\tvalid_1's binary_logloss: 0.547212\n",
      "| \u001b[0m 14      \u001b[0m | \u001b[0m 0.7331  \u001b[0m | \u001b[0m 1.0     \u001b[0m | \u001b[0m 1.0     \u001b[0m | \u001b[0m 0.2177  \u001b[0m | \u001b[0m 4.132   \u001b[0m | \u001b[0m 109.7   \u001b[0m | \u001b[0m 128.8   \u001b[0m | \u001b[0m 0.5     \u001b[0m |\n",
      "fold n°0\n",
      "Training until validation scores don't improve for 200 rounds.\n",
      "Early stopping, best iteration is:\n",
      "[111]\ttraining's binary_logloss: 0.508309\tvalid_1's binary_logloss: 0.551265\n",
      "fold n°1\n",
      "Training until validation scores don't improve for 200 rounds.\n",
      "Early stopping, best iteration is:\n",
      "[90]\ttraining's binary_logloss: 0.517043\tvalid_1's binary_logloss: 0.548065\n",
      "fold n°2\n",
      "Training until validation scores don't improve for 200 rounds.\n",
      "Early stopping, best iteration is:\n",
      "[164]\ttraining's binary_logloss: 0.512791\tvalid_1's binary_logloss: 0.525773\n",
      "fold n°3\n",
      "Training until validation scores don't improve for 200 rounds.\n",
      "Early stopping, best iteration is:\n",
      "[146]\ttraining's binary_logloss: 0.510529\tvalid_1's binary_logloss: 0.534472\n",
      "fold n°4\n",
      "Training until validation scores don't improve for 200 rounds.\n",
      "Early stopping, best iteration is:\n",
      "[73]\ttraining's binary_logloss: 0.519587\tvalid_1's binary_logloss: 0.552054\n"
     ]
    },
    {
     "name": "stdout",
     "output_type": "stream",
     "text": [
      "| \u001b[0m 15      \u001b[0m | \u001b[0m 0.7383  \u001b[0m | \u001b[0m 1.0     \u001b[0m | \u001b[0m 1.0     \u001b[0m | \u001b[0m 5.692   \u001b[0m | \u001b[0m 9.954   \u001b[0m | \u001b[0m 82.78   \u001b[0m | \u001b[0m 127.7   \u001b[0m | \u001b[0m 0.5     \u001b[0m |\n",
      "fold n°0\n",
      "Training until validation scores don't improve for 200 rounds.\n",
      "Early stopping, best iteration is:\n",
      "[105]\ttraining's binary_logloss: 0.514305\tvalid_1's binary_logloss: 0.551483\n",
      "fold n°1\n",
      "Training until validation scores don't improve for 200 rounds.\n",
      "Early stopping, best iteration is:\n",
      "[85]\ttraining's binary_logloss: 0.520661\tvalid_1's binary_logloss: 0.548985\n",
      "fold n°2\n",
      "Training until validation scores don't improve for 200 rounds.\n",
      "Early stopping, best iteration is:\n",
      "[176]\ttraining's binary_logloss: 0.516813\tvalid_1's binary_logloss: 0.524334\n",
      "fold n°3\n",
      "Training until validation scores don't improve for 200 rounds.\n",
      "Early stopping, best iteration is:\n",
      "[136]\ttraining's binary_logloss: 0.514798\tvalid_1's binary_logloss: 0.532247\n",
      "fold n°4\n",
      "Training until validation scores don't improve for 200 rounds.\n",
      "Early stopping, best iteration is:\n",
      "[84]\ttraining's binary_logloss: 0.519284\tvalid_1's binary_logloss: 0.550567\n",
      "| \u001b[0m 16      \u001b[0m | \u001b[0m 0.7388  \u001b[0m | \u001b[0m 1.0     \u001b[0m | \u001b[0m 1.0     \u001b[0m | \u001b[0m 5.871   \u001b[0m | \u001b[0m 4.013   \u001b[0m | \u001b[0m 89.45   \u001b[0m | \u001b[0m 79.17   \u001b[0m | \u001b[0m 0.5     \u001b[0m |\n",
      "fold n°0\n",
      "Training until validation scores don't improve for 200 rounds.\n",
      "Early stopping, best iteration is:\n",
      "[34]\ttraining's binary_logloss: 0.43421\tvalid_1's binary_logloss: 0.583821\n",
      "fold n°1\n",
      "Training until validation scores don't improve for 200 rounds.\n",
      "Early stopping, best iteration is:\n",
      "[32]\ttraining's binary_logloss: 0.442999\tvalid_1's binary_logloss: 0.572414\n",
      "fold n°2\n",
      "Training until validation scores don't improve for 200 rounds.\n",
      "Early stopping, best iteration is:\n",
      "[54]\ttraining's binary_logloss: 0.399319\tvalid_1's binary_logloss: 0.530871\n",
      "fold n°3\n",
      "Training until validation scores don't improve for 200 rounds.\n",
      "Early stopping, best iteration is:\n",
      "[37]\ttraining's binary_logloss: 0.429244\tvalid_1's binary_logloss: 0.553281\n",
      "fold n°4\n",
      "Training until validation scores don't improve for 200 rounds.\n",
      "Early stopping, best iteration is:\n",
      "[31]\ttraining's binary_logloss: 0.447056\tvalid_1's binary_logloss: 0.57149\n",
      "| \u001b[0m 17      \u001b[0m | \u001b[0m 0.7223  \u001b[0m | \u001b[0m 1.0     \u001b[0m | \u001b[0m 1.0     \u001b[0m | \u001b[0m 0.04901 \u001b[0m | \u001b[0m 9.915   \u001b[0m | \u001b[0m 11.91   \u001b[0m | \u001b[0m 112.7   \u001b[0m | \u001b[0m 0.5     \u001b[0m |\n",
      "fold n°0\n",
      "Training until validation scores don't improve for 200 rounds.\n",
      "Early stopping, best iteration is:\n",
      "[89]\ttraining's binary_logloss: 0.511709\tvalid_1's binary_logloss: 0.551166\n",
      "fold n°1\n",
      "Training until validation scores don't improve for 200 rounds.\n",
      "Early stopping, best iteration is:\n",
      "[71]\ttraining's binary_logloss: 0.51859\tvalid_1's binary_logloss: 0.548105\n",
      "fold n°2\n",
      "Training until validation scores don't improve for 200 rounds.\n",
      "Early stopping, best iteration is:\n",
      "[105]\ttraining's binary_logloss: 0.516863\tvalid_1's binary_logloss: 0.527586\n",
      "fold n°3\n",
      "Training until validation scores don't improve for 200 rounds.\n",
      "Early stopping, best iteration is:\n",
      "[76]\ttraining's binary_logloss: 0.519313\tvalid_1's binary_logloss: 0.530815\n",
      "fold n°4\n",
      "Training until validation scores don't improve for 200 rounds.\n",
      "Early stopping, best iteration is:\n",
      "[68]\ttraining's binary_logloss: 0.518482\tvalid_1's binary_logloss: 0.544979\n",
      "| \u001b[0m 18      \u001b[0m | \u001b[0m 0.7377  \u001b[0m | \u001b[0m 1.0     \u001b[0m | \u001b[0m 1.0     \u001b[0m | \u001b[0m 0.04219 \u001b[0m | \u001b[0m 9.855   \u001b[0m | \u001b[0m 149.5   \u001b[0m | \u001b[0m 15.57   \u001b[0m | \u001b[0m 0.5     \u001b[0m |\n",
      "fold n°0\n",
      "Training until validation scores don't improve for 200 rounds.\n",
      "Early stopping, best iteration is:\n",
      "[82]\ttraining's binary_logloss: 0.50911\tvalid_1's binary_logloss: 0.555352\n",
      "fold n°1\n",
      "Training until validation scores don't improve for 200 rounds.\n",
      "Early stopping, best iteration is:\n",
      "[54]\ttraining's binary_logloss: 0.521578\tvalid_1's binary_logloss: 0.551002\n",
      "fold n°2\n",
      "Training until validation scores don't improve for 200 rounds.\n",
      "Early stopping, best iteration is:\n",
      "[139]\ttraining's binary_logloss: 0.505832\tvalid_1's binary_logloss: 0.523266\n",
      "fold n°3\n",
      "Training until validation scores don't improve for 200 rounds.\n",
      "Early stopping, best iteration is:\n",
      "[140]\ttraining's binary_logloss: 0.501921\tvalid_1's binary_logloss: 0.539434\n",
      "fold n°4\n",
      "Training until validation scores don't improve for 200 rounds.\n",
      "Early stopping, best iteration is:\n",
      "[128]\ttraining's binary_logloss: 0.500624\tvalid_1's binary_logloss: 0.551812\n",
      "| \u001b[0m 19      \u001b[0m | \u001b[0m 0.7383  \u001b[0m | \u001b[0m 1.0     \u001b[0m | \u001b[0m 1.0     \u001b[0m | \u001b[0m 5.512   \u001b[0m | \u001b[0m 4.044   \u001b[0m | \u001b[0m 11.99   \u001b[0m | \u001b[0m 85.47   \u001b[0m | \u001b[0m 0.5     \u001b[0m |\n",
      "fold n°0\n",
      "Training until validation scores don't improve for 200 rounds.\n",
      "Early stopping, best iteration is:\n",
      "[89]\ttraining's binary_logloss: 0.523375\tvalid_1's binary_logloss: 0.550392\n",
      "fold n°1\n",
      "Training until validation scores don't improve for 200 rounds.\n",
      "Early stopping, best iteration is:\n",
      "[89]\ttraining's binary_logloss: 0.524776\tvalid_1's binary_logloss: 0.548617\n",
      "fold n°2\n",
      "Training until validation scores don't improve for 200 rounds.\n",
      "Early stopping, best iteration is:\n",
      "[154]\ttraining's binary_logloss: 0.52408\tvalid_1's binary_logloss: 0.528437\n",
      "fold n°3\n",
      "Training until validation scores don't improve for 200 rounds.\n",
      "Early stopping, best iteration is:\n",
      "[164]\ttraining's binary_logloss: 0.522073\tvalid_1's binary_logloss: 0.536373\n",
      "fold n°4\n",
      "Training until validation scores don't improve for 200 rounds.\n",
      "Early stopping, best iteration is:\n",
      "[155]\ttraining's binary_logloss: 0.518199\tvalid_1's binary_logloss: 0.54723\n",
      "| \u001b[0m 20      \u001b[0m | \u001b[0m 0.7367  \u001b[0m | \u001b[0m 1.0     \u001b[0m | \u001b[0m 1.0     \u001b[0m | \u001b[0m 5.962   \u001b[0m | \u001b[0m 9.818   \u001b[0m | \u001b[0m 35.39   \u001b[0m | \u001b[0m 5.524   \u001b[0m | \u001b[0m 0.5     \u001b[0m |\n",
      "fold n°0\n",
      "Training until validation scores don't improve for 200 rounds.\n",
      "Early stopping, best iteration is:\n",
      "[89]\ttraining's binary_logloss: 0.510259\tvalid_1's binary_logloss: 0.550548\n",
      "fold n°1\n",
      "Training until validation scores don't improve for 200 rounds.\n",
      "Early stopping, best iteration is:\n",
      "[86]\ttraining's binary_logloss: 0.516599\tvalid_1's binary_logloss: 0.547621\n",
      "fold n°2\n",
      "Training until validation scores don't improve for 200 rounds.\n",
      "Early stopping, best iteration is:\n",
      "[131]\ttraining's binary_logloss: 0.513764\tvalid_1's binary_logloss: 0.525225\n",
      "fold n°3\n",
      "Training until validation scores don't improve for 200 rounds.\n",
      "Early stopping, best iteration is:\n",
      "[125]\ttraining's binary_logloss: 0.511593\tvalid_1's binary_logloss: 0.535931\n",
      "fold n°4\n",
      "Training until validation scores don't improve for 200 rounds.\n",
      "Early stopping, best iteration is:\n",
      "[75]\ttraining's binary_logloss: 0.516074\tvalid_1's binary_logloss: 0.5545\n",
      "| \u001b[0m 21      \u001b[0m | \u001b[0m 0.7383  \u001b[0m | \u001b[0m 1.0     \u001b[0m | \u001b[0m 1.0     \u001b[0m | \u001b[0m 5.851   \u001b[0m | \u001b[0m 9.629   \u001b[0m | \u001b[0m 69.17   \u001b[0m | \u001b[0m 48.98   \u001b[0m | \u001b[0m 0.5     \u001b[0m |\n",
      "fold n°0\n",
      "Training until validation scores don't improve for 200 rounds.\n",
      "Early stopping, best iteration is:\n",
      "[121]\ttraining's binary_logloss: 0.517888\tvalid_1's binary_logloss: 0.553521\n",
      "fold n°1\n",
      "Training until validation scores don't improve for 200 rounds.\n",
      "Early stopping, best iteration is:\n",
      "[159]\ttraining's binary_logloss: 0.516723\tvalid_1's binary_logloss: 0.546979\n",
      "fold n°2\n",
      "Training until validation scores don't improve for 200 rounds.\n",
      "Early stopping, best iteration is:\n",
      "[199]\ttraining's binary_logloss: 0.520481\tvalid_1's binary_logloss: 0.52669\n",
      "fold n°3\n",
      "Training until validation scores don't improve for 200 rounds.\n",
      "Early stopping, best iteration is:\n",
      "[173]\ttraining's binary_logloss: 0.519128\tvalid_1's binary_logloss: 0.533503\n",
      "fold n°4\n",
      "Training until validation scores don't improve for 200 rounds.\n",
      "Early stopping, best iteration is:\n",
      "[190]\ttraining's binary_logloss: 0.515344\tvalid_1's binary_logloss: 0.546274\n",
      "| \u001b[0m 22      \u001b[0m | \u001b[0m 0.7352  \u001b[0m | \u001b[0m 1.0     \u001b[0m | \u001b[0m 1.0     \u001b[0m | \u001b[0m 5.962   \u001b[0m | \u001b[0m 9.555   \u001b[0m | \u001b[0m 148.7   \u001b[0m | \u001b[0m 8.836   \u001b[0m | \u001b[0m 0.5     \u001b[0m |\n",
      "=============================================================================================================\n"
     ]
    }
   ],
   "source": [
    "with warnings.catch_warnings():\n",
    "    warnings.filterwarnings('ignore')\n",
    "    LGB_BO.maximize(init_points=2, n_iter=20, acq='ei', xi=0.0)"
   ]
  },
  {
   "cell_type": "code",
   "execution_count": 160,
   "metadata": {},
   "outputs": [],
   "source": [
    "'''\n",
    "set parameters\n",
    "'''\n",
    "param = {\n",
    "            'num_leaves': 63,\n",
    "            'min_data_in_leaf': 52, \n",
    "            'objective':'binary',\n",
    "            'max_depth': 4,\n",
    "            'learning_rate': 0.05,\n",
    "            \"boosting\": \"gbdt\",\n",
    "            \"feature_fraction\": 1,\n",
    "            \"bagging_freq\": 1,\n",
    "            \"bagging_fraction\": 1,\n",
    "            \"bagging_seed\": 11,\n",
    "            \"lambda_l1\": 5.973,\n",
    "            \"verbosity\": -1\n",
    "        }"
   ]
  },
  {
   "cell_type": "code",
   "execution_count": 174,
   "metadata": {},
   "outputs": [
    {
     "name": "stdout",
     "output_type": "stream",
     "text": [
      "fold n°0\n",
      "Training until validation scores don't improve for 200 rounds.\n",
      "Early stopping, best iteration is:\n",
      "[123]\ttraining's binary_logloss: 0.5066\tvalid_1's binary_logloss: 0.550588\n",
      "fold n°1\n"
     ]
    },
    {
     "name": "stderr",
     "output_type": "stream",
     "text": [
      "C:\\Users\\wuziy\\Anaconda3\\lib\\site-packages\\lightgbm\\basic.py:1186: UserWarning: Using categorical_feature in Dataset.\n",
      "  warnings.warn('Using categorical_feature in Dataset.')\n",
      "C:\\Users\\wuziy\\Anaconda3\\lib\\site-packages\\lightgbm\\basic.py:752: UserWarning: categorical_feature in param dict is overridden.\n",
      "  warnings.warn('categorical_feature in param dict is overridden.')\n",
      "C:\\Users\\wuziy\\Anaconda3\\lib\\site-packages\\lightgbm\\basic.py:1186: UserWarning: Using categorical_feature in Dataset.\n",
      "  warnings.warn('Using categorical_feature in Dataset.')\n",
      "C:\\Users\\wuziy\\Anaconda3\\lib\\site-packages\\lightgbm\\basic.py:752: UserWarning: categorical_feature in param dict is overridden.\n",
      "  warnings.warn('categorical_feature in param dict is overridden.')\n"
     ]
    },
    {
     "name": "stdout",
     "output_type": "stream",
     "text": [
      "Training until validation scores don't improve for 200 rounds.\n",
      "Early stopping, best iteration is:\n",
      "[61]\ttraining's binary_logloss: 0.523558\tvalid_1's binary_logloss: 0.550409\n",
      "fold n°2\n",
      "Training until validation scores don't improve for 200 rounds.\n"
     ]
    },
    {
     "name": "stderr",
     "output_type": "stream",
     "text": [
      "C:\\Users\\wuziy\\Anaconda3\\lib\\site-packages\\lightgbm\\basic.py:1186: UserWarning: Using categorical_feature in Dataset.\n",
      "  warnings.warn('Using categorical_feature in Dataset.')\n",
      "C:\\Users\\wuziy\\Anaconda3\\lib\\site-packages\\lightgbm\\basic.py:752: UserWarning: categorical_feature in param dict is overridden.\n",
      "  warnings.warn('categorical_feature in param dict is overridden.')\n"
     ]
    },
    {
     "name": "stdout",
     "output_type": "stream",
     "text": [
      "Early stopping, best iteration is:\n",
      "[177]\ttraining's binary_logloss: 0.513416\tvalid_1's binary_logloss: 0.522508\n",
      "fold n°3\n",
      "Training until validation scores don't improve for 200 rounds.\n",
      "Early stopping, best iteration is:\n",
      "[169]\ttraining's binary_logloss: 0.509832\tvalid_1's binary_logloss: 0.534486\n"
     ]
    },
    {
     "name": "stderr",
     "output_type": "stream",
     "text": [
      "C:\\Users\\wuziy\\Anaconda3\\lib\\site-packages\\lightgbm\\basic.py:1186: UserWarning: Using categorical_feature in Dataset.\n",
      "  warnings.warn('Using categorical_feature in Dataset.')\n",
      "C:\\Users\\wuziy\\Anaconda3\\lib\\site-packages\\lightgbm\\basic.py:752: UserWarning: categorical_feature in param dict is overridden.\n",
      "  warnings.warn('categorical_feature in param dict is overridden.')\n"
     ]
    },
    {
     "name": "stdout",
     "output_type": "stream",
     "text": [
      "fold n°4\n",
      "Training until validation scores don't improve for 200 rounds.\n",
      "Early stopping, best iteration is:\n",
      "[118]\ttraining's binary_logloss: 0.507824\tvalid_1's binary_logloss: 0.550307\n"
     ]
    },
    {
     "name": "stderr",
     "output_type": "stream",
     "text": [
      "C:\\Users\\wuziy\\Anaconda3\\lib\\site-packages\\lightgbm\\basic.py:1186: UserWarning: Using categorical_feature in Dataset.\n",
      "  warnings.warn('Using categorical_feature in Dataset.')\n",
      "C:\\Users\\wuziy\\Anaconda3\\lib\\site-packages\\lightgbm\\basic.py:752: UserWarning: categorical_feature in param dict is overridden.\n",
      "  warnings.warn('categorical_feature in param dict is overridden.')\n"
     ]
    },
    {
     "name": "stdout",
     "output_type": "stream",
     "text": [
      "CV score: 0.74084 \n",
      "Test Accuracy:0.75869 \n"
     ]
    }
   ],
   "source": [
    "'''\n",
    "run boosted tree\n",
    "'''\n",
    "folds = KFold(n_splits=5, shuffle=True, random_state=15)\n",
    "oof = np.zeros(len(x_train))\n",
    "predictions = np.zeros(len(x_test))\n",
    "feature_importance_df = pd.DataFrame()\n",
    "\n",
    "for fold_, (trn_idx, val_idx) in enumerate(folds.split(x_train.values, y_train.values)):\n",
    "    print(\"fold n°{}\".format(fold_))\n",
    "    trn_data = lgb.Dataset(x_train.iloc[trn_idx][features],\n",
    "                           label=y_train.iloc[trn_idx],\n",
    "                           categorical_feature=categorical_feats\n",
    "                          )\n",
    "    val_data = lgb.Dataset(x_train.iloc[val_idx][features],\n",
    "                           label=y_train.iloc[val_idx],\n",
    "                           categorical_feature=categorical_feats\n",
    "                          )\n",
    "\n",
    "    num_round = 10000\n",
    "    clf = lgb.train(param,\n",
    "                    trn_data,\n",
    "                    num_round,\n",
    "                    valid_sets = [trn_data, val_data],\n",
    "                    verbose_eval=500,\n",
    "                    early_stopping_rounds = 200)\n",
    "    \n",
    "    oof[val_idx] = clf.predict(x_train.iloc[val_idx][features], num_iteration=clf.best_iteration)\n",
    "\n",
    "    fold_importance_df = pd.DataFrame()\n",
    "    fold_importance_df[\"feature\"] = features\n",
    "    fold_importance_df[\"importance\"] = clf.feature_importance()\n",
    "    fold_importance_df[\"fold\"] = fold_ + 1\n",
    "    feature_importance_df = pd.concat([feature_importance_df, fold_importance_df], axis=0)\n",
    "    \n",
    "    predictions += clf.predict(x_test[features], num_iteration=clf.best_iteration) / folds.n_splits\n",
    "\n",
    "pred_0_1 = [0]*len(predictions)\n",
    "for i in range(x_train.shape[0]):\n",
    "        if oof[i] >= 0.5:\n",
    "            oof[i] = 1\n",
    "        else:\n",
    "            oof[i] = 0\n",
    "for i in range(len(predictions)):\n",
    "        if predictions[i] >= 0.477:\n",
    "            pred_0_1[i] = 1\n",
    "        else:\n",
    "            pred_0_1[i] = 0\n",
    "print(\"CV score: {:<8.5f}\".format(accuracy_score(oof, y_train.values)))\n",
    "print(\"Test Accuracy:{:<8.5f}\".format(accuracy_score(pred_0_1, y_test.values)))"
   ]
  },
  {
   "cell_type": "code",
   "execution_count": 175,
   "metadata": {},
   "outputs": [],
   "source": [
    "matrix = confusion_matrix(y_test.values, pred_0_1, labels=None, sample_weight=None)\n",
    "df_matrix,df_summary = metrix_matrix(matrix)"
   ]
  },
  {
   "cell_type": "code",
   "execution_count": 176,
   "metadata": {},
   "outputs": [
    {
     "data": {
      "text/html": [
       "<div>\n",
       "<style scoped>\n",
       "    .dataframe tbody tr th:only-of-type {\n",
       "        vertical-align: middle;\n",
       "    }\n",
       "\n",
       "    .dataframe tbody tr th {\n",
       "        vertical-align: top;\n",
       "    }\n",
       "\n",
       "    .dataframe thead th {\n",
       "        text-align: right;\n",
       "    }\n",
       "</style>\n",
       "<table border=\"1\" class=\"dataframe\">\n",
       "  <thead>\n",
       "    <tr style=\"text-align: right;\">\n",
       "      <th></th>\n",
       "      <th>pred_0</th>\n",
       "      <th>pred_1</th>\n",
       "    </tr>\n",
       "  </thead>\n",
       "  <tbody>\n",
       "    <tr>\n",
       "      <th>actual_0</th>\n",
       "      <td>236</td>\n",
       "      <td>44</td>\n",
       "    </tr>\n",
       "    <tr>\n",
       "      <th>actual_1</th>\n",
       "      <td>74</td>\n",
       "      <td>135</td>\n",
       "    </tr>\n",
       "  </tbody>\n",
       "</table>\n",
       "</div>"
      ],
      "text/plain": [
       "          pred_0  pred_1\n",
       "actual_0     236      44\n",
       "actual_1      74     135"
      ]
     },
     "execution_count": 176,
     "metadata": {},
     "output_type": "execute_result"
    }
   ],
   "source": [
    "df_matrix"
   ]
  },
  {
   "cell_type": "code",
   "execution_count": 177,
   "metadata": {},
   "outputs": [
    {
     "data": {
      "text/html": [
       "<div>\n",
       "<style scoped>\n",
       "    .dataframe tbody tr th:only-of-type {\n",
       "        vertical-align: middle;\n",
       "    }\n",
       "\n",
       "    .dataframe tbody tr th {\n",
       "        vertical-align: top;\n",
       "    }\n",
       "\n",
       "    .dataframe thead th {\n",
       "        text-align: right;\n",
       "    }\n",
       "</style>\n",
       "<table border=\"1\" class=\"dataframe\">\n",
       "  <thead>\n",
       "    <tr style=\"text-align: right;\">\n",
       "      <th></th>\n",
       "      <th>Value</th>\n",
       "    </tr>\n",
       "  </thead>\n",
       "  <tbody>\n",
       "    <tr>\n",
       "      <th>Accuracy</th>\n",
       "      <td>0.758691</td>\n",
       "    </tr>\n",
       "    <tr>\n",
       "      <th>PPV</th>\n",
       "      <td>0.754190</td>\n",
       "    </tr>\n",
       "    <tr>\n",
       "      <th>NPV</th>\n",
       "      <td>0.761290</td>\n",
       "    </tr>\n",
       "    <tr>\n",
       "      <th>Sensitivity</th>\n",
       "      <td>0.645933</td>\n",
       "    </tr>\n",
       "    <tr>\n",
       "      <th>Specificity</th>\n",
       "      <td>0.842857</td>\n",
       "    </tr>\n",
       "  </tbody>\n",
       "</table>\n",
       "</div>"
      ],
      "text/plain": [
       "                Value\n",
       "Accuracy     0.758691\n",
       "PPV          0.754190\n",
       "NPV          0.761290\n",
       "Sensitivity  0.645933\n",
       "Specificity  0.842857"
      ]
     },
     "execution_count": 177,
     "metadata": {},
     "output_type": "execute_result"
    }
   ],
   "source": [
    "df_summary"
   ]
  },
  {
   "cell_type": "code",
   "execution_count": 178,
   "metadata": {},
   "outputs": [],
   "source": [
    "contractor_id = df_raw.loc[(df_raw['num_applications_1_year_after_register'] != 'Not enough info')&\n",
    "                         (df_raw['num_applications_1_year_after_register_approval'] != 'Not enough info')&\n",
    "                          (df_raw['applied_in_window_2nd_12months_or_not'] != 'Not enough info')&(df_raw['train_test'] == 0),'Dealer ID']\n",
    "actual = y_test.values\n",
    "predicted_prob = np.array(predictions)\n",
    "predicted= pred_0_1"
   ]
  },
  {
   "cell_type": "code",
   "execution_count": 179,
   "metadata": {},
   "outputs": [],
   "source": [
    "def TP(columna,columnb):\n",
    "    if columna==1 and columnb==1:\n",
    "        x=1\n",
    "    else:\n",
    "        x=0\n",
    "    return x\n",
    "\n",
    "df_result=pd.DataFrame()\n",
    "df_result[\"contractor_id\"]=contractor_id\n",
    "df_result[\"actual\"]=actual\n",
    "df_result[\"predicted\"]=predicted\n",
    "df_result[\"predicted_prob\"]=predicted_prob\n",
    "df_result=df_result.sort_values(by=[\"predicted_prob\"],ascending=False)\n",
    "df_result[\"Actual_Positive\"]=df_result.apply(lambda x: TP(x[\"actual\"],x[\"predicted\"]),axis=1)\n",
    "df_result[\"Cumulative_Positives\"]=df_result[\"Actual_Positive\"].cumsum()\n",
    "total_positives=df_result[\"Actual_Positive\"].sum()\n",
    "df_result[\"Cumulative_Positives_percent\"]=df_result[\"Cumulative_Positives\"]/total_positives\n",
    "df_result[\"Cumulative_Count\"]=df_result[\"contractor_id\"].expanding().count()/df_result[\"contractor_id\"].count()"
   ]
  },
  {
   "cell_type": "code",
   "execution_count": 180,
   "metadata": {},
   "outputs": [
    {
     "data": {
      "image/png": "[encoded data removed]",
      "text/plain": [
       "<Figure size 432x288 with 1 Axes>"
      ]
     },
     "metadata": {},
     "output_type": "display_data"
    }
   ],
   "source": [
    "plt.plot(df_result[\"Cumulative_Positives_percent\"].values.tolist())\n",
    "plt.plot(df_result[\"Cumulative_Count\"].values.tolist())\n",
    "plt.ylabel('cumulative Actual Positives Percentage')\n",
    "\n",
    "plt.show()"
   ]
  },
  {
   "cell_type": "code",
   "execution_count": 181,
   "metadata": {},
   "outputs": [
    {
     "data": {
      "text/plain": [
       "<matplotlib.legend.Legend at 0x276d6cccba8>"
      ]
     },
     "execution_count": 181,
     "metadata": {},
     "output_type": "execute_result"
    },
    {
     "data": {
      "image/png": "[encoded data removed]",
      "text/plain": [
       "<Figure size 432x288 with 1 Axes>"
      ]
     },
     "metadata": {},
     "output_type": "display_data"
    }
   ],
   "source": [
    "# Compute fpr, tpr, thresholds and roc auc\n",
    "fpr, tpr, thresholds = roc_curve(actual, predicted_prob,1)\n",
    "roc_auc = auc(fpr, tpr)\n",
    "\n",
    "# Plot ROC curve\n",
    "plt.plot(fpr, tpr, label='ROC curve (area = %0.3f)' % roc_auc)\n",
    "plt.plot([0, 1], [0, 1], 'k--')  # random predictions curve\n",
    "plt.xlim([0.0, 1.0])\n",
    "plt.ylim([0.0, 1.0])\n",
    "plt.xlabel('False Positive Rate or (1 - Specifity)')\n",
    "plt.ylabel('True Positive Rate or (Sensitivity)')\n",
    "plt.title('Receiver Operating Characteristic')\n",
    "plt.legend(loc=\"lower right\")"
   ]
  },
  {
   "cell_type": "code",
   "execution_count": 182,
   "metadata": {},
   "outputs": [
    {
     "name": "stderr",
     "output_type": "stream",
     "text": [
      "C:\\Users\\wuziy\\Anaconda3\\lib\\site-packages\\scipy\\stats\\stats.py:1713: FutureWarning: Using a non-tuple sequence for multidimensional indexing is deprecated; use `arr[tuple(seq)]` instead of `arr[seq]`. In the future this will be interpreted as an array index, `arr[np.array(seq)]`, which will result either in an error or a different result.\n",
      "  return np.add.reduce(sorted[indexer] * weights, axis=axis) / sumval\n"
     ]
    },
    {
     "data": {
      "image/png": "[encoded data removed]",
      "text/plain": [
       "<Figure size 1440x1080 with 1 Axes>"
      ]
     },
     "metadata": {},
     "output_type": "display_data"
    }
   ],
   "source": [
    "cols = (feature_importance_df[[\"feature\", \"importance\"]]\n",
    "        .groupby(\"feature\")\n",
    "        .mean()\n",
    "        .sort_values(by=\"importance\", ascending=False)[:1000].index)\n",
    "\n",
    "best_features = feature_importance_df.loc[feature_importance_df.feature.isin(cols)]\n",
    "\n",
    "plt.figure(figsize=(20,15))\n",
    "sns.barplot(x=\"importance\",\n",
    "            y=\"feature\",\n",
    "            data=best_features.sort_values(by=\"importance\",\n",
    "                                           ascending=False))\n",
    "plt.title('LightGBM Features (avg over folds)')\n",
    "plt.tight_layout()\n",
    "plt.savefig('lgbm_importances.png')"
   ]
  },
  {
   "cell_type": "code",
   "execution_count": null,
   "metadata": {},
   "outputs": [],
   "source": []
  }
 ],
 "metadata": {
  "kernelspec": {
   "display_name": "Python 3",
   "language": "python",
   "name": "python3"
  },
  "language_info": {
   "codemirror_mode": {
    "name": "ipython",
    "version": 3
   },
   "file_extension": ".py",
   "mimetype": "text/x-python",
   "name": "python",
   "nbconvert_exporter": "python",
   "pygments_lexer": "ipython3",
   "version": "3.6.5"
  }
 },
 "nbformat": 4,
 "nbformat_minor": 2
}
