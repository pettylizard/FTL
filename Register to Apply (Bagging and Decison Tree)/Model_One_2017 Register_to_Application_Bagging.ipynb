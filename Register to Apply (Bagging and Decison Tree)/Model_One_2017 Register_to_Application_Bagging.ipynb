{
 "cells": [
  {
   "cell_type": "code",
   "execution_count": 1,
   "metadata": {},
   "outputs": [],
   "source": [
    "#bagging decision trees for classfication\n",
    "import pandas as pd\n",
    "import numpy as np\n",
    "from sklearn.model_selection import train_test_split\n",
    "from sklearn import model_selection\n",
    "from sklearn.ensemble import BaggingClassifier\n",
    "from sklearn.tree import DecisionTreeClassifier\n",
    "from sklearn.model_selection import KFold, GridSearchCV, train_test_split\n",
    "from sklearn.metrics import accuracy_score, confusion_matrix\n",
    "from sklearn.preprocessing import StandardScaler\n"
   ]
  },
  {
   "cell_type": "markdown",
   "metadata": {},
   "source": [
    "**Read Data**"
   ]
  },
  {
   "cell_type": "code",
   "execution_count": 3,
   "metadata": {},
   "outputs": [
    {
     "data": {
      "text/plain": [
       "Index(['Dealer ID', 'year', 'train_test', 'Converted State-AL',\n",
       "       'Converted State-AR', 'Converted State-CA', 'Converted State-FL',\n",
       "       'Converted State-GA', 'Converted State-IL', 'Converted State-IN',\n",
       "       'Converted State-KY', 'Converted State-LA', 'Converted State-MI',\n",
       "       'Converted State-MO', 'Converted State-NC', 'Converted State-NJ',\n",
       "       'Converted State-OH', 'Converted State-Others', 'Converted State-PA',\n",
       "       'Converted State-SC', 'Converted State-TN', 'Converted State-TX',\n",
       "       'employeebucket-NA', 'employeebucket-4~8', 'employeebucket-<4',\n",
       "       'employeebucket->8', 'No. of Employees', 'Sales between 0-99,999',\n",
       "       'Sales between 100,000-499,999', 'Other Sales', 'Sales N/A',\n",
       "       'Currently offers Consumer Financing?_No',\n",
       "       'Currently offers Consumer Financing?_Yes',\n",
       "       'Currently offers Consumer Financing?_N/A', 'Over 10', 'Below 10',\n",
       "       'No year info', 'Gibson 18.Column3', 'Hitting Potential 16.Column3',\n",
       "       'JS 16.Column3', 'JS 17.Column3', 'JS 18.Column3', 'JS 19.Column3',\n",
       "       'NON USER 16.Column3', 'NON USER 17.Column3', 'NON USER 18.Column3',\n",
       "       'Velocity 17.Column3', 'centurty 18.Column3', 'brand_1', 'brand_2',\n",
       "       'brand_3', 'brand_4', 'brand_5', 'brand_6', 'brand_7', 'brand_8',\n",
       "       'applied 2016', 'applied 2017', 'applied 2018', 'applied 2019',\n",
       "       '2016_summer', '2016_winter', '2016_other', '2017_summer',\n",
       "       '2017_winter', '2017_other', '2018_summer', '2018_winter', '2018_other',\n",
       "       '2019_summer', '2019_winter', '2019_other', 'Recency',\n",
       "       'applied_in_window_12months_or_not', 'applied_in_window_6months_or_not',\n",
       "       'applied_in_window_3months_or_not',\n",
       "       'applied_in_window_18months_or_not'],\n",
       "      dtype='object')"
      ]
     },
     "execution_count": 3,
     "metadata": {},
     "output_type": "execute_result"
    }
   ],
   "source": [
    "df_raw=pd.read_csv(\"./Data_Processed_All_Contractors_Characteristics - Data.csv\")\n",
    "df_raw.head(10)\n",
    "df_raw.shape\n",
    "df_raw.columns"
   ]
  },
  {
   "cell_type": "markdown",
   "metadata": {},
   "source": [
    "**Prepare the data**"
   ]
  },
  {
   "cell_type": "code",
   "execution_count": 26,
   "metadata": {},
   "outputs": [],
   "source": [
    "df_2017 = df_raw.loc[df_raw['year'] == 2017]\n",
    "df_2017_xy = df_2017.iloc[:,:58].drop(['Dealer ID','No. of Employees','year','applied 2016','JS 16.Column3','JS 18.Column3','JS 19.Column3','NON USER 16.Column3','NON USER 18.Column3','centurty 18.Column3','Gibson 18.Column3','Hitting Potential 16.Column3'],axis=1)\n",
    "train_df = df_2017_xy.loc[df_2017_xy['train_test'] == 1].drop('train_test',axis = 1)\n",
    "test_df = df_2017_xy.loc[df_2017_xy['train_test'] == 0].drop('train_test',axis = 1)\n",
    "x_train = train_df.iloc[:,:44]\n",
    "y_train = train_df['applied 2017']\n",
    "x_test = test_df.iloc[:,:44]\n",
    "y_test = test_df['applied 2017']\n"
   ]
  },
  {
   "cell_type": "code",
   "execution_count": 27,
   "metadata": {},
   "outputs": [],
   "source": [
    "column_list=list(df_raw.columns)\n",
    "# print(column_list)"
   ]
  },
  {
   "cell_type": "code",
   "execution_count": 28,
   "metadata": {},
   "outputs": [],
   "source": [
    "def find_index(name):\n",
    "    index_num = column_list.index(name)\n",
    "    print(index_num)"
   ]
  },
  {
   "cell_type": "code",
   "execution_count": 29,
   "metadata": {},
   "outputs": [
    {
     "name": "stdout",
     "output_type": "stream",
     "text": [
      "57\n"
     ]
    }
   ],
   "source": [
    "find_index('applied 2017')"
   ]
  },
  {
   "cell_type": "code",
   "execution_count": 30,
   "metadata": {},
   "outputs": [
    {
     "data": {
      "text/plain": [
       "Index(['train_test', 'Converted State-AL', 'Converted State-AR',\n",
       "       'Converted State-CA', 'Converted State-FL', 'Converted State-GA',\n",
       "       'Converted State-IL', 'Converted State-IN', 'Converted State-KY',\n",
       "       'Converted State-LA', 'Converted State-MI', 'Converted State-MO',\n",
       "       'Converted State-NC', 'Converted State-NJ', 'Converted State-OH',\n",
       "       'Converted State-Others', 'Converted State-PA', 'Converted State-SC',\n",
       "       'Converted State-TN', 'Converted State-TX', 'employeebucket-NA',\n",
       "       'employeebucket-4~8', 'employeebucket-<4', 'employeebucket->8',\n",
       "       'Sales between 0-99,999', 'Sales between 100,000-499,999',\n",
       "       'Other Sales', 'Sales N/A', 'Currently offers Consumer Financing?_No',\n",
       "       'Currently offers Consumer Financing?_Yes',\n",
       "       'Currently offers Consumer Financing?_N/A', 'Over 10', 'Below 10',\n",
       "       'No year info', 'JS 17.Column3', 'NON USER 17.Column3',\n",
       "       'Velocity 17.Column3', 'brand_1', 'brand_2', 'brand_3', 'brand_4',\n",
       "       'brand_5', 'brand_6', 'brand_7', 'brand_8', 'applied 2017'],\n",
       "      dtype='object')"
      ]
     },
     "execution_count": 30,
     "metadata": {},
     "output_type": "execute_result"
    }
   ],
   "source": [
    "df_2017_xy.columns"
   ]
  },
  {
   "cell_type": "code",
   "execution_count": 31,
   "metadata": {},
   "outputs": [
    {
     "data": {
      "text/plain": [
       "(1233, 46)"
      ]
     },
     "execution_count": 31,
     "metadata": {},
     "output_type": "execute_result"
    }
   ],
   "source": [
    "df_2017_xy.shape"
   ]
  },
  {
   "cell_type": "markdown",
   "metadata": {},
   "source": [
    "**Bagging Model**"
   ]
  },
  {
   "cell_type": "code",
   "execution_count": 32,
   "metadata": {},
   "outputs": [
    {
     "name": "stdout",
     "output_type": "stream",
     "text": [
      "[1 0 1 0 1 0 1 1 1 1 1 1 1 1 1 1 1 1 1 1 0 0 0 1 1 1 1 1 1 1 1 1 1 1 0 1 0\n",
      " 0 1 1 1 1 0 1 0 1 1 1 1 1 1 1 0 1 1 0 1 1 1 0 1 1 1 1 1 0 1 0 1 1 0 1 1 1\n",
      " 0 0 1 1 1 0 1 1 0 1 1 0 0 1 1 1 0 0 1 0 1 0 1 1 0 0 0 1 1 0 1 0 1 1 0 0 1\n",
      " 0 1 0 0 0 1 1 1 1 1 1 1 1 1 1 1 0 1 0 0 1 1 1 1 0 0 1 1 0 1 0 0 0 0 0 0 1\n",
      " 0 1 1 0 1 0 1 1 0 0 0 1 1 1 0 0 1 0 1 0 0 0 0 0 1 1 0 0 1 1 0 0 0 0 1 0 0\n",
      " 0 1 0 0 1 0 1 0 0 0 0 1 0 0 0 1 1 0 0 1 0 1 0 1 0 1 0 1 1 0 0 0 0 1 0 0 1\n",
      " 1 1 0 1 0 1 1 0 0 1 1 0 0 1 1 0 0 0 0 0 1 0 1 0 1]\n"
     ]
    }
   ],
   "source": [
    "tree=DecisionTreeClassifier(criterion='entropy', max_depth=5)\n",
    "bg = BaggingClassifier(base_estimator=tree, n_estimators=85, max_samples=0.6, max_features=1.0, bootstrap=True, bootstrap_features=False, n_jobs=1, random_state=1)\n",
    "bg.fit(x_train,y_train)\n",
    "predict_results=bg.predict(x_test)\n",
    "print(predict_results)\n"
   ]
  },
  {
   "cell_type": "code",
   "execution_count": 33,
   "metadata": {},
   "outputs": [
    {
     "name": "stdout",
     "output_type": "stream",
     "text": [
      "0.6032388663967612\n",
      "[[68 58]\n",
      " [40 81]]\n"
     ]
    }
   ],
   "source": [
    "print(accuracy_score(predict_results, y_test))\n",
    "conf_mat = confusion_matrix(y_test, predict_results)\n",
    "print(conf_mat)\n"
   ]
  },
  {
   "cell_type": "markdown",
   "metadata": {},
   "source": [
    "**Model Evaluation**\n",
    "\n",
    "     1. Confusion Matrix\n",
    "     2 TP, FP, TN, FN\n",
    "     3. Accuracy Rate\n",
    "     4. PPV & NPV\n",
    "     5. Sensitivity & Specificity\n",
    "     6. F1 Score\n",
    "     7. Cumulative Gains Chart\n",
    "     8. AUC-ROC Curve"
   ]
  },
  {
   "cell_type": "code",
   "execution_count": 34,
   "metadata": {},
   "outputs": [],
   "source": [
    "from sklearn.metrics import confusion_matrix \n",
    "matrix = confusion_matrix(y_test.values, predict_results, labels=None, sample_weight=None)\n",
    "def metrix_matrix(matrix):\n",
    "    df_matrix=pd.DataFrame(matrix,columns=['pred_negative','pred_positive'],index=['actual_negative','actual_positive'])\n",
    "    tn, fp, fn, tp=matrix.ravel()\n",
    "    acc=(tp+tn)/(tp+tn+fp+fn)\n",
    "    ppv=tp/(tp+fp)\n",
    "    npv=tn/(tn+fn)\n",
    "    tpr=tp/(tp+fn)\n",
    "    tnr=tn/(tn+fp)\n",
    "    summary_matrix=[acc,ppv,npv,tpr,tnr]\n",
    "    df_summary=pd.DataFrame(summary_matrix,columns=['Value'],index=['Accuracy','PPV','NPV','Sensitivity','Specificity'])\n",
    "    return df_matrix,df_summary"
   ]
  },
  {
   "cell_type": "code",
   "execution_count": 23,
   "metadata": {},
   "outputs": [
    {
     "data": {
      "text/html": [
       "<div>\n",
       "<style scoped>\n",
       "    .dataframe tbody tr th:only-of-type {\n",
       "        vertical-align: middle;\n",
       "    }\n",
       "\n",
       "    .dataframe tbody tr th {\n",
       "        vertical-align: top;\n",
       "    }\n",
       "\n",
       "    .dataframe thead th {\n",
       "        text-align: right;\n",
       "    }\n",
       "</style>\n",
       "<table border=\"1\" class=\"dataframe\">\n",
       "  <thead>\n",
       "    <tr style=\"text-align: right;\">\n",
       "      <th></th>\n",
       "      <th>pred_negative</th>\n",
       "      <th>pred_positive</th>\n",
       "    </tr>\n",
       "  </thead>\n",
       "  <tbody>\n",
       "    <tr>\n",
       "      <td>actual_negative</td>\n",
       "      <td>68</td>\n",
       "      <td>58</td>\n",
       "    </tr>\n",
       "    <tr>\n",
       "      <td>actual_positive</td>\n",
       "      <td>40</td>\n",
       "      <td>81</td>\n",
       "    </tr>\n",
       "  </tbody>\n",
       "</table>\n",
       "</div>"
      ],
      "text/plain": [
       "                 pred_negative  pred_positive\n",
       "actual_negative             68             58\n",
       "actual_positive             40             81"
      ]
     },
     "execution_count": 23,
     "metadata": {},
     "output_type": "execute_result"
    }
   ],
   "source": [
    "df_matrix,df_summary = metrix_matrix(matrix)\n",
    "df_matrix"
   ]
  },
  {
   "cell_type": "code",
   "execution_count": 24,
   "metadata": {},
   "outputs": [
    {
     "data": {
      "text/html": [
       "<div>\n",
       "<style scoped>\n",
       "    .dataframe tbody tr th:only-of-type {\n",
       "        vertical-align: middle;\n",
       "    }\n",
       "\n",
       "    .dataframe tbody tr th {\n",
       "        vertical-align: top;\n",
       "    }\n",
       "\n",
       "    .dataframe thead th {\n",
       "        text-align: right;\n",
       "    }\n",
       "</style>\n",
       "<table border=\"1\" class=\"dataframe\">\n",
       "  <thead>\n",
       "    <tr style=\"text-align: right;\">\n",
       "      <th></th>\n",
       "      <th>Value</th>\n",
       "    </tr>\n",
       "  </thead>\n",
       "  <tbody>\n",
       "    <tr>\n",
       "      <td>Accuracy</td>\n",
       "      <td>0.603239</td>\n",
       "    </tr>\n",
       "    <tr>\n",
       "      <td>PPV</td>\n",
       "      <td>0.582734</td>\n",
       "    </tr>\n",
       "    <tr>\n",
       "      <td>NPV</td>\n",
       "      <td>0.629630</td>\n",
       "    </tr>\n",
       "    <tr>\n",
       "      <td>Sensitivity</td>\n",
       "      <td>0.669421</td>\n",
       "    </tr>\n",
       "    <tr>\n",
       "      <td>Specificity</td>\n",
       "      <td>0.539683</td>\n",
       "    </tr>\n",
       "  </tbody>\n",
       "</table>\n",
       "</div>"
      ],
      "text/plain": [
       "                Value\n",
       "Accuracy     0.603239\n",
       "PPV          0.582734\n",
       "NPV          0.629630\n",
       "Sensitivity  0.669421\n",
       "Specificity  0.539683"
      ]
     },
     "execution_count": 24,
     "metadata": {},
     "output_type": "execute_result"
    }
   ],
   "source": [
    "df_summary"
   ]
  },
  {
   "cell_type": "code",
   "execution_count": 36,
   "metadata": {},
   "outputs": [
    {
     "data": {
      "text/html": [
       "<div>\n",
       "<style scoped>\n",
       "    .dataframe tbody tr th:only-of-type {\n",
       "        vertical-align: middle;\n",
       "    }\n",
       "\n",
       "    .dataframe tbody tr th {\n",
       "        vertical-align: top;\n",
       "    }\n",
       "\n",
       "    .dataframe thead th {\n",
       "        text-align: right;\n",
       "    }\n",
       "</style>\n",
       "<table border=\"1\" class=\"dataframe\">\n",
       "  <thead>\n",
       "    <tr style=\"text-align: right;\">\n",
       "      <th></th>\n",
       "      <th>Predict_Positive_Prob</th>\n",
       "      <th>Predict</th>\n",
       "      <th>Actual</th>\n",
       "      <th>Contractor_ID</th>\n",
       "      <th>True_Positive</th>\n",
       "      <th>Cumulative_True_Positive</th>\n",
       "      <th>%_Cumulative_True_Positive</th>\n",
       "      <th>%_Cumulative_Count</th>\n",
       "    </tr>\n",
       "  </thead>\n",
       "  <tbody>\n",
       "    <tr>\n",
       "      <td>0</td>\n",
       "      <td>0.708608</td>\n",
       "      <td>1</td>\n",
       "      <td>1</td>\n",
       "      <td>C17300</td>\n",
       "      <td>1</td>\n",
       "      <td>1</td>\n",
       "      <td>0.012346</td>\n",
       "      <td>0.004049</td>\n",
       "    </tr>\n",
       "    <tr>\n",
       "      <td>1</td>\n",
       "      <td>0.704390</td>\n",
       "      <td>1</td>\n",
       "      <td>1</td>\n",
       "      <td>C17442</td>\n",
       "      <td>1</td>\n",
       "      <td>2</td>\n",
       "      <td>0.024691</td>\n",
       "      <td>0.008097</td>\n",
       "    </tr>\n",
       "    <tr>\n",
       "      <td>2</td>\n",
       "      <td>0.703665</td>\n",
       "      <td>1</td>\n",
       "      <td>0</td>\n",
       "      <td>C16937</td>\n",
       "      <td>0</td>\n",
       "      <td>2</td>\n",
       "      <td>0.024691</td>\n",
       "      <td>0.012146</td>\n",
       "    </tr>\n",
       "    <tr>\n",
       "      <td>3</td>\n",
       "      <td>0.703620</td>\n",
       "      <td>1</td>\n",
       "      <td>1</td>\n",
       "      <td>C17057</td>\n",
       "      <td>1</td>\n",
       "      <td>3</td>\n",
       "      <td>0.037037</td>\n",
       "      <td>0.016194</td>\n",
       "    </tr>\n",
       "    <tr>\n",
       "      <td>4</td>\n",
       "      <td>0.701546</td>\n",
       "      <td>1</td>\n",
       "      <td>0</td>\n",
       "      <td>C17979</td>\n",
       "      <td>0</td>\n",
       "      <td>3</td>\n",
       "      <td>0.037037</td>\n",
       "      <td>0.020243</td>\n",
       "    </tr>\n",
       "    <tr>\n",
       "      <td>5</td>\n",
       "      <td>0.682750</td>\n",
       "      <td>1</td>\n",
       "      <td>1</td>\n",
       "      <td>C17055</td>\n",
       "      <td>1</td>\n",
       "      <td>4</td>\n",
       "      <td>0.049383</td>\n",
       "      <td>0.024291</td>\n",
       "    </tr>\n",
       "    <tr>\n",
       "      <td>6</td>\n",
       "      <td>0.682229</td>\n",
       "      <td>1</td>\n",
       "      <td>1</td>\n",
       "      <td>C17122</td>\n",
       "      <td>1</td>\n",
       "      <td>5</td>\n",
       "      <td>0.061728</td>\n",
       "      <td>0.028340</td>\n",
       "    </tr>\n",
       "    <tr>\n",
       "      <td>7</td>\n",
       "      <td>0.665876</td>\n",
       "      <td>1</td>\n",
       "      <td>1</td>\n",
       "      <td>C17420</td>\n",
       "      <td>1</td>\n",
       "      <td>6</td>\n",
       "      <td>0.074074</td>\n",
       "      <td>0.032389</td>\n",
       "    </tr>\n",
       "    <tr>\n",
       "      <td>8</td>\n",
       "      <td>0.663423</td>\n",
       "      <td>1</td>\n",
       "      <td>0</td>\n",
       "      <td>C17412</td>\n",
       "      <td>0</td>\n",
       "      <td>6</td>\n",
       "      <td>0.074074</td>\n",
       "      <td>0.036437</td>\n",
       "    </tr>\n",
       "    <tr>\n",
       "      <td>9</td>\n",
       "      <td>0.661737</td>\n",
       "      <td>1</td>\n",
       "      <td>0</td>\n",
       "      <td>C17149</td>\n",
       "      <td>0</td>\n",
       "      <td>6</td>\n",
       "      <td>0.074074</td>\n",
       "      <td>0.040486</td>\n",
       "    </tr>\n",
       "  </tbody>\n",
       "</table>\n",
       "</div>"
      ],
      "text/plain": [
       "   Predict_Positive_Prob  Predict  Actual Contractor_ID  True_Positive  \\\n",
       "0               0.708608        1       1        C17300              1   \n",
       "1               0.704390        1       1        C17442              1   \n",
       "2               0.703665        1       0        C16937              0   \n",
       "3               0.703620        1       1        C17057              1   \n",
       "4               0.701546        1       0        C17979              0   \n",
       "5               0.682750        1       1        C17055              1   \n",
       "6               0.682229        1       1        C17122              1   \n",
       "7               0.665876        1       1        C17420              1   \n",
       "8               0.663423        1       0        C17412              0   \n",
       "9               0.661737        1       0        C17149              0   \n",
       "\n",
       "   Cumulative_True_Positive  %_Cumulative_True_Positive  %_Cumulative_Count  \n",
       "0                         1                    0.012346            0.004049  \n",
       "1                         2                    0.024691            0.008097  \n",
       "2                         2                    0.024691            0.012146  \n",
       "3                         3                    0.037037            0.016194  \n",
       "4                         3                    0.037037            0.020243  \n",
       "5                         4                    0.049383            0.024291  \n",
       "6                         5                    0.061728            0.028340  \n",
       "7                         6                    0.074074            0.032389  \n",
       "8                         6                    0.074074            0.036437  \n",
       "9                         6                    0.074074            0.040486  "
      ]
     },
     "execution_count": 36,
     "metadata": {},
     "output_type": "execute_result"
    }
   ],
   "source": [
    "pred_prob = bg.predict_proba(x_test)\n",
    "df_pred_positive_prob=pd.DataFrame(pred_prob).drop(0,axis=1)\n",
    "df_test_result=df_pred_positive_prob.rename(columns={1:'Predict_Positive_Prob'})\n",
    "df_test_result['Predict']=predict_results\n",
    "df_test_result['Actual']=y_test.tolist()\n",
    "contractor_id = df_2017.loc[(df_2017['train_test'] == 0),'Dealer ID'].values\n",
    "df_test_result['Contractor_ID']=contractor_id\n",
    "\n",
    "#calculate true positive and its cumulative\n",
    "df_test_result=df_test_result.sort_values(by=[\"Predict_Positive_Prob\"],ascending=False).reset_index(drop=True)\n",
    "df_test_result[\"True_Positive\"]=df_test_result.apply(lambda x: ((x[\"Actual\"]==x[\"Predict\"]) & (x[\"Actual\"]==1))*1,axis=1)\n",
    "df_test_result[\"Cumulative_True_Positive\"]=df_test_result[\"True_Positive\"].cumsum() #numpy\n",
    "total_true_positive=df_test_result[\"True_Positive\"].sum()\n",
    "\n",
    "#calculate % cumulative true positive counts vs % ID counts (linear)\n",
    "df_test_result[\"%_Cumulative_True_Positive\"]=df_test_result[\"Cumulative_True_Positive\"]/total_true_positive\n",
    "df_test_result[\"%_Cumulative_Count\"]=df_test_result[\"Contractor_ID\"].expanding().count()/df_test_result[\"Contractor_ID\"].count() #.expanding(): pandas\n",
    "\n",
    "df_test_result.head(10)"
   ]
  },
  {
   "cell_type": "code",
   "execution_count": 37,
   "metadata": {},
   "outputs": [
    {
     "data": {
      "text/plain": [
       "Text(0, 0.5, 'Cumulative % True Positives')"
      ]
     },
     "execution_count": 37,
     "metadata": {},
     "output_type": "execute_result"
    },
    {
     "data": {
      "image/png": "[encoded data removed]",
      "text/plain": [
       "<Figure size 432x288 with 1 Axes>"
      ]
     },
     "metadata": {
      "needs_background": "light"
     },
     "output_type": "display_data"
    }
   ],
   "source": [
    "import matplotlib.pyplot as plt\n",
    "%matplotlib inline\n",
    "plt.plot(df_test_result[\"%_Cumulative_True_Positive\"].values.tolist())\n",
    "plt.plot(df_test_result[\"%_Cumulative_Count\"].values.tolist())\n",
    "plt.xlabel('# Contractors',fontsize=12)\n",
    "plt.ylabel('Cumulative % True Positives',fontsize=12)"
   ]
  },
  {
   "cell_type": "code",
   "execution_count": 38,
   "metadata": {},
   "outputs": [
    {
     "data": {
      "text/plain": [
       "<matplotlib.legend.Legend at 0x1a1fc505d0>"
      ]
     },
     "execution_count": 38,
     "metadata": {},
     "output_type": "execute_result"
    },
    {
     "data": {
      "image/png": "[encoded data removed]",
      "text/plain": [
       "<Figure size 432x288 with 1 Axes>"
      ]
     },
     "metadata": {
      "needs_background": "light"
     },
     "output_type": "display_data"
    }
   ],
   "source": [
    "from sklearn.metrics import roc_curve\n",
    "from sklearn.metrics import auc\n",
    "\n",
    "\n",
    "fpr, tpr, thresholds = roc_curve(df_test_result[\"Actual\"].values.tolist(), df_test_result[\"Predict_Positive_Prob\"].values.tolist())\n",
    "roc_auc = auc(fpr,tpr)\n",
    "\n",
    "\n",
    "plt.plot(fpr, tpr, label='ROC curve (area = %0.3f)' % roc_auc)\n",
    "plt.plot([0, 1], [0, 1], 'k--')  \n",
    "plt.xlim([0.0, 1.0])\n",
    "plt.ylim([0.0, 1.0])\n",
    "plt.xlabel('False Positive Rate or (1 - Specifity)')\n",
    "plt.ylabel('True Positive Rate or (Sensitivity)')\n",
    "plt.title('Receiver Operating Characteristic')\n",
    "plt.legend(loc=\"lower right\")"
   ]
  },
  {
   "cell_type": "code",
   "execution_count": null,
   "metadata": {},
   "outputs": [],
   "source": []
  },
  {
   "cell_type": "code",
   "execution_count": null,
   "metadata": {},
   "outputs": [],
   "source": []
  }
 ],
 "metadata": {
  "kernelspec": {
   "display_name": "Python 3",
   "language": "python",
   "name": "python3"
  },
  "language_info": {
   "codemirror_mode": {
    "name": "ipython",
    "version": 3
   },
   "file_extension": ".py",
   "mimetype": "text/x-python",
   "name": "python",
   "nbconvert_exporter": "python",
   "pygments_lexer": "ipython3",
   "version": "3.7.4"
  }
 },
 "nbformat": 4,
 "nbformat_minor": 2
}
