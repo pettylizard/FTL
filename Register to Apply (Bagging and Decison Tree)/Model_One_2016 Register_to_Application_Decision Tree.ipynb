{
 "cells": [
  {
   "cell_type": "code",
   "execution_count": 13,
   "metadata": {},
   "outputs": [],
   "source": [
    "#import libraries\n",
    "import pandas as pd\n",
    "from sklearn.tree import DecisionTreeClassifier #import decision tree classifier\n",
    "from sklearn.model_selection import train_test_split # Import train_test_split function\n",
    "from sklearn import metrics #Import scikit-learn metrics module for accuracy calculation\n",
    "import numpy as np\n",
    "from sklearn import model_selection\n",
    "from sklearn.tree import DecisionTreeClassifier\n",
    "from sklearn.metrics import accuracy_score, confusion_matrix\n",
    "from sklearn.preprocessing import StandardScaler"
   ]
  },
  {
   "cell_type": "code",
   "execution_count": 2,
   "metadata": {},
   "outputs": [
    {
     "data": {
      "text/plain": [
       "(5046, 77)"
      ]
     },
     "execution_count": 2,
     "metadata": {},
     "output_type": "execute_result"
    }
   ],
   "source": [
    "df_raw=pd.read_csv(\"./Data_Processed_All_Contractors_Characteristics - Data.csv\")\n",
    "df_raw.head(10)\n",
    "df_raw.shape"
   ]
  },
  {
   "cell_type": "code",
   "execution_count": 3,
   "metadata": {},
   "outputs": [],
   "source": [
    "df_2016 = df_raw.loc[df_raw['year'] == 2016]\n",
    "df_2016_xy = df_2016.iloc[:,:57].drop(['Dealer ID','No. of Employees','year','JS 17.Column3','JS 18.Column3','JS 19.Column3','NON USER 17.Column3','NON USER 18.Column3','Velocity 17.Column3','centurty 18.Column3','Gibson 18.Column3'],axis=1)"
   ]
  },
  {
   "cell_type": "code",
   "execution_count": 4,
   "metadata": {},
   "outputs": [],
   "source": [
    "column_list=list(df_raw.columns)\n",
    "# print(column_list)"
   ]
  },
  {
   "cell_type": "code",
   "execution_count": 5,
   "metadata": {},
   "outputs": [],
   "source": [
    "def find_index(name):\n",
    "    index_num = column_list.index(name)\n",
    "    print(index_num)"
   ]
  },
  {
   "cell_type": "code",
   "execution_count": 6,
   "metadata": {},
   "outputs": [
    {
     "name": "stdout",
     "output_type": "stream",
     "text": [
      "56\n"
     ]
    }
   ],
   "source": [
    "find_index('applied 2016')"
   ]
  },
  {
   "cell_type": "code",
   "execution_count": 7,
   "metadata": {},
   "outputs": [
    {
     "data": {
      "text/plain": [
       "Index(['Dealer ID', 'year', 'train_test', 'Converted State-AL',\n",
       "       'Converted State-AR', 'Converted State-CA', 'Converted State-FL',\n",
       "       'Converted State-GA', 'Converted State-IL', 'Converted State-IN',\n",
       "       'Converted State-KY', 'Converted State-LA', 'Converted State-MI',\n",
       "       'Converted State-MO', 'Converted State-NC', 'Converted State-NJ',\n",
       "       'Converted State-OH', 'Converted State-Others', 'Converted State-PA',\n",
       "       'Converted State-SC', 'Converted State-TN', 'Converted State-TX',\n",
       "       'employeebucket-NA', 'employeebucket-4~8', 'employeebucket-<4',\n",
       "       'employeebucket->8', 'No. of Employees', 'Sales between 0-99,999',\n",
       "       'Sales between 100,000-499,999', 'Other Sales', 'Sales N/A',\n",
       "       'Currently offers Consumer Financing?_No',\n",
       "       'Currently offers Consumer Financing?_Yes',\n",
       "       'Currently offers Consumer Financing?_N/A', 'Over 10', 'Below 10',\n",
       "       'No year info', 'Gibson 18.Column3', 'Hitting Potential 16.Column3',\n",
       "       'JS 16.Column3', 'JS 17.Column3', 'JS 18.Column3', 'JS 19.Column3',\n",
       "       'NON USER 16.Column3', 'NON USER 17.Column3', 'NON USER 18.Column3',\n",
       "       'Velocity 17.Column3', 'centurty 18.Column3', 'brand_1', 'brand_2',\n",
       "       'brand_3', 'brand_4', 'brand_5', 'brand_6', 'brand_7', 'brand_8',\n",
       "       'applied 2016', 'applied 2017', 'applied 2018', 'applied 2019',\n",
       "       '2016_summer', '2016_winter', '2016_other', '2017_summer',\n",
       "       '2017_winter', '2017_other', '2018_summer', '2018_winter', '2018_other',\n",
       "       '2019_summer', '2019_winter', '2019_other', 'Recency',\n",
       "       'applied_in_window_12months_or_not', 'applied_in_window_6months_or_not',\n",
       "       'applied_in_window_3months_or_not',\n",
       "       'applied_in_window_18months_or_not'],\n",
       "      dtype='object')"
      ]
     },
     "execution_count": 7,
     "metadata": {},
     "output_type": "execute_result"
    }
   ],
   "source": [
    "df_2016.columns"
   ]
  },
  {
   "cell_type": "code",
   "execution_count": 8,
   "metadata": {},
   "outputs": [
    {
     "data": {
      "text/plain": [
       "(1473, 46)"
      ]
     },
     "execution_count": 8,
     "metadata": {},
     "output_type": "execute_result"
    }
   ],
   "source": [
    "df_2016_xy.shape"
   ]
  },
  {
   "cell_type": "code",
   "execution_count": 9,
   "metadata": {},
   "outputs": [],
   "source": [
    "train_df = df_2016_xy.loc[df_2016_xy['train_test'] == 1].drop('train_test',axis = 1)\n",
    "test_df = df_2016_xy.loc[df_2016_xy['train_test'] == 0].drop('train_test',axis = 1)\n",
    "x_train = train_df.iloc[:,:44]\n",
    "y_train = train_df['applied 2016']\n",
    "x_test = test_df.iloc[:,:44]\n",
    "y_test = test_df['applied 2016']\n",
    "\n"
   ]
  },
  {
   "cell_type": "code",
   "execution_count": 11,
   "metadata": {},
   "outputs": [],
   "source": [
    "# Create Decision Tree classifer object\n",
    "clf = DecisionTreeClassifier(criterion=\"entropy\", max_depth=4)\n",
    "\n",
    "# Train Decision Tree Classifer\n",
    "clf = clf.fit(x_train,y_train)\n",
    "\n",
    "#Predict the response for test dataset\n",
    "predict_results = clf.predict(x_test)"
   ]
  },
  {
   "cell_type": "code",
   "execution_count": 15,
   "metadata": {},
   "outputs": [
    {
     "name": "stdout",
     "output_type": "stream",
     "text": [
      "0.576271186440678\n",
      "[[82 53]\n",
      " [72 88]]\n"
     ]
    }
   ],
   "source": [
    "print(accuracy_score(predict_results, y_test))\n",
    "conf_mat = confusion_matrix(y_test, predict_results)\n",
    "print(conf_mat)"
   ]
  },
  {
   "cell_type": "markdown",
   "metadata": {},
   "source": [
    "**Model Evaluation**\n",
    "\n",
    "     1. Confusion Matrix\n",
    "     2 TP, FP, TN, FN\n",
    "     3. Accuracy Rate\n",
    "     4. PPV & NPV\n",
    "     5. Sensitivity & Specificity\n",
    "     6. F1 Score\n",
    "     7. Cumulative Gains Chart\n",
    "     8. AUC-ROC Curve"
   ]
  },
  {
   "cell_type": "code",
   "execution_count": 16,
   "metadata": {},
   "outputs": [],
   "source": [
    "from sklearn.metrics import confusion_matrix \n",
    "matrix = confusion_matrix(y_test.values, predict_results, labels=None, sample_weight=None)\n",
    "def metrix_matrix(matrix):\n",
    "    df_matrix=pd.DataFrame(matrix,columns=['pred_negative','pred_positive'],index=['actual_negative','actual_positive'])\n",
    "    tn, fp, fn, tp=matrix.ravel()\n",
    "    acc=(tp+tn)/(tp+tn+fp+fn)\n",
    "    ppv=tp/(tp+fp)\n",
    "    npv=tn/(tn+fn)\n",
    "    tpr=tp/(tp+fn)\n",
    "    tnr=tn/(tn+fp)\n",
    "    summary_matrix=[acc,ppv,npv,tpr,tnr]\n",
    "    df_summary=pd.DataFrame(summary_matrix,columns=['Value'],index=['Accuracy','PPV','NPV','Sensitivity','Specificity'])\n",
    "    return df_matrix,df_summary"
   ]
  },
  {
   "cell_type": "code",
   "execution_count": 17,
   "metadata": {},
   "outputs": [
    {
     "data": {
      "text/html": [
       "<div>\n",
       "<style scoped>\n",
       "    .dataframe tbody tr th:only-of-type {\n",
       "        vertical-align: middle;\n",
       "    }\n",
       "\n",
       "    .dataframe tbody tr th {\n",
       "        vertical-align: top;\n",
       "    }\n",
       "\n",
       "    .dataframe thead th {\n",
       "        text-align: right;\n",
       "    }\n",
       "</style>\n",
       "<table border=\"1\" class=\"dataframe\">\n",
       "  <thead>\n",
       "    <tr style=\"text-align: right;\">\n",
       "      <th></th>\n",
       "      <th>pred_negative</th>\n",
       "      <th>pred_positive</th>\n",
       "    </tr>\n",
       "  </thead>\n",
       "  <tbody>\n",
       "    <tr>\n",
       "      <td>actual_negative</td>\n",
       "      <td>82</td>\n",
       "      <td>53</td>\n",
       "    </tr>\n",
       "    <tr>\n",
       "      <td>actual_positive</td>\n",
       "      <td>72</td>\n",
       "      <td>88</td>\n",
       "    </tr>\n",
       "  </tbody>\n",
       "</table>\n",
       "</div>"
      ],
      "text/plain": [
       "                 pred_negative  pred_positive\n",
       "actual_negative             82             53\n",
       "actual_positive             72             88"
      ]
     },
     "execution_count": 17,
     "metadata": {},
     "output_type": "execute_result"
    }
   ],
   "source": [
    "df_matrix,df_summary = metrix_matrix(matrix)\n",
    "df_matrix"
   ]
  },
  {
   "cell_type": "code",
   "execution_count": 18,
   "metadata": {},
   "outputs": [
    {
     "data": {
      "text/html": [
       "<div>\n",
       "<style scoped>\n",
       "    .dataframe tbody tr th:only-of-type {\n",
       "        vertical-align: middle;\n",
       "    }\n",
       "\n",
       "    .dataframe tbody tr th {\n",
       "        vertical-align: top;\n",
       "    }\n",
       "\n",
       "    .dataframe thead th {\n",
       "        text-align: right;\n",
       "    }\n",
       "</style>\n",
       "<table border=\"1\" class=\"dataframe\">\n",
       "  <thead>\n",
       "    <tr style=\"text-align: right;\">\n",
       "      <th></th>\n",
       "      <th>Value</th>\n",
       "    </tr>\n",
       "  </thead>\n",
       "  <tbody>\n",
       "    <tr>\n",
       "      <td>Accuracy</td>\n",
       "      <td>0.576271</td>\n",
       "    </tr>\n",
       "    <tr>\n",
       "      <td>PPV</td>\n",
       "      <td>0.624113</td>\n",
       "    </tr>\n",
       "    <tr>\n",
       "      <td>NPV</td>\n",
       "      <td>0.532468</td>\n",
       "    </tr>\n",
       "    <tr>\n",
       "      <td>Sensitivity</td>\n",
       "      <td>0.550000</td>\n",
       "    </tr>\n",
       "    <tr>\n",
       "      <td>Specificity</td>\n",
       "      <td>0.607407</td>\n",
       "    </tr>\n",
       "  </tbody>\n",
       "</table>\n",
       "</div>"
      ],
      "text/plain": [
       "                Value\n",
       "Accuracy     0.576271\n",
       "PPV          0.624113\n",
       "NPV          0.532468\n",
       "Sensitivity  0.550000\n",
       "Specificity  0.607407"
      ]
     },
     "execution_count": 18,
     "metadata": {},
     "output_type": "execute_result"
    }
   ],
   "source": [
    "df_summary"
   ]
  },
  {
   "cell_type": "code",
   "execution_count": 22,
   "metadata": {},
   "outputs": [
    {
     "data": {
      "text/html": [
       "<div>\n",
       "<style scoped>\n",
       "    .dataframe tbody tr th:only-of-type {\n",
       "        vertical-align: middle;\n",
       "    }\n",
       "\n",
       "    .dataframe tbody tr th {\n",
       "        vertical-align: top;\n",
       "    }\n",
       "\n",
       "    .dataframe thead th {\n",
       "        text-align: right;\n",
       "    }\n",
       "</style>\n",
       "<table border=\"1\" class=\"dataframe\">\n",
       "  <thead>\n",
       "    <tr style=\"text-align: right;\">\n",
       "      <th></th>\n",
       "      <th>Predict_Positive_Prob</th>\n",
       "      <th>Predict</th>\n",
       "      <th>Actual</th>\n",
       "      <th>Contractor_ID</th>\n",
       "      <th>True_Positive</th>\n",
       "      <th>Cumulative_True_Positive</th>\n",
       "      <th>%_Cumulative_True_Positive</th>\n",
       "      <th>%_Cumulative_Count</th>\n",
       "    </tr>\n",
       "  </thead>\n",
       "  <tbody>\n",
       "    <tr>\n",
       "      <td>0</td>\n",
       "      <td>0.782609</td>\n",
       "      <td>1</td>\n",
       "      <td>1</td>\n",
       "      <td>C16529</td>\n",
       "      <td>1</td>\n",
       "      <td>1</td>\n",
       "      <td>0.011364</td>\n",
       "      <td>0.003390</td>\n",
       "    </tr>\n",
       "    <tr>\n",
       "      <td>1</td>\n",
       "      <td>0.782609</td>\n",
       "      <td>1</td>\n",
       "      <td>1</td>\n",
       "      <td>C15646</td>\n",
       "      <td>1</td>\n",
       "      <td>2</td>\n",
       "      <td>0.022727</td>\n",
       "      <td>0.006780</td>\n",
       "    </tr>\n",
       "    <tr>\n",
       "      <td>2</td>\n",
       "      <td>0.782609</td>\n",
       "      <td>1</td>\n",
       "      <td>1</td>\n",
       "      <td>C15350</td>\n",
       "      <td>1</td>\n",
       "      <td>3</td>\n",
       "      <td>0.034091</td>\n",
       "      <td>0.010169</td>\n",
       "    </tr>\n",
       "    <tr>\n",
       "      <td>3</td>\n",
       "      <td>0.700000</td>\n",
       "      <td>1</td>\n",
       "      <td>1</td>\n",
       "      <td>C15744</td>\n",
       "      <td>1</td>\n",
       "      <td>4</td>\n",
       "      <td>0.045455</td>\n",
       "      <td>0.013559</td>\n",
       "    </tr>\n",
       "    <tr>\n",
       "      <td>4</td>\n",
       "      <td>0.700000</td>\n",
       "      <td>1</td>\n",
       "      <td>0</td>\n",
       "      <td>C16527</td>\n",
       "      <td>0</td>\n",
       "      <td>4</td>\n",
       "      <td>0.045455</td>\n",
       "      <td>0.016949</td>\n",
       "    </tr>\n",
       "    <tr>\n",
       "      <td>5</td>\n",
       "      <td>0.700000</td>\n",
       "      <td>1</td>\n",
       "      <td>1</td>\n",
       "      <td>C15493</td>\n",
       "      <td>1</td>\n",
       "      <td>5</td>\n",
       "      <td>0.056818</td>\n",
       "      <td>0.020339</td>\n",
       "    </tr>\n",
       "    <tr>\n",
       "      <td>6</td>\n",
       "      <td>0.700000</td>\n",
       "      <td>1</td>\n",
       "      <td>0</td>\n",
       "      <td>C16476</td>\n",
       "      <td>0</td>\n",
       "      <td>5</td>\n",
       "      <td>0.056818</td>\n",
       "      <td>0.023729</td>\n",
       "    </tr>\n",
       "    <tr>\n",
       "      <td>7</td>\n",
       "      <td>0.700000</td>\n",
       "      <td>1</td>\n",
       "      <td>1</td>\n",
       "      <td>C15514</td>\n",
       "      <td>1</td>\n",
       "      <td>6</td>\n",
       "      <td>0.068182</td>\n",
       "      <td>0.027119</td>\n",
       "    </tr>\n",
       "    <tr>\n",
       "      <td>8</td>\n",
       "      <td>0.700000</td>\n",
       "      <td>1</td>\n",
       "      <td>1</td>\n",
       "      <td>C15518</td>\n",
       "      <td>1</td>\n",
       "      <td>7</td>\n",
       "      <td>0.079545</td>\n",
       "      <td>0.030508</td>\n",
       "    </tr>\n",
       "    <tr>\n",
       "      <td>9</td>\n",
       "      <td>0.700000</td>\n",
       "      <td>1</td>\n",
       "      <td>1</td>\n",
       "      <td>C16445</td>\n",
       "      <td>1</td>\n",
       "      <td>8</td>\n",
       "      <td>0.090909</td>\n",
       "      <td>0.033898</td>\n",
       "    </tr>\n",
       "  </tbody>\n",
       "</table>\n",
       "</div>"
      ],
      "text/plain": [
       "   Predict_Positive_Prob  Predict  Actual Contractor_ID  True_Positive  \\\n",
       "0               0.782609        1       1        C16529              1   \n",
       "1               0.782609        1       1        C15646              1   \n",
       "2               0.782609        1       1        C15350              1   \n",
       "3               0.700000        1       1        C15744              1   \n",
       "4               0.700000        1       0        C16527              0   \n",
       "5               0.700000        1       1        C15493              1   \n",
       "6               0.700000        1       0        C16476              0   \n",
       "7               0.700000        1       1        C15514              1   \n",
       "8               0.700000        1       1        C15518              1   \n",
       "9               0.700000        1       1        C16445              1   \n",
       "\n",
       "   Cumulative_True_Positive  %_Cumulative_True_Positive  %_Cumulative_Count  \n",
       "0                         1                    0.011364            0.003390  \n",
       "1                         2                    0.022727            0.006780  \n",
       "2                         3                    0.034091            0.010169  \n",
       "3                         4                    0.045455            0.013559  \n",
       "4                         4                    0.045455            0.016949  \n",
       "5                         5                    0.056818            0.020339  \n",
       "6                         5                    0.056818            0.023729  \n",
       "7                         6                    0.068182            0.027119  \n",
       "8                         7                    0.079545            0.030508  \n",
       "9                         8                    0.090909            0.033898  "
      ]
     },
     "execution_count": 22,
     "metadata": {},
     "output_type": "execute_result"
    }
   ],
   "source": [
    "pred_prob = clf.predict_proba(x_test)\n",
    "df_pred_positive_prob=pd.DataFrame(pred_prob).drop(0,axis=1)\n",
    "df_test_result=df_pred_positive_prob.rename(columns={1:'Predict_Positive_Prob'})\n",
    "df_test_result['Predict']=predict_results\n",
    "df_test_result['Actual']=y_test.tolist()\n",
    "df_test_result['Contractor_ID']=df_raw.iloc[:,:60].drop(['JS 17.Column3','JS 18.Column3','JS 19.Column3','NON USER 17.Column3',\\\n",
    "                                                                'NON USER 18.Column3','Velocity 17.Column3','centurty 18.Column3','Gibson 18.Column3',\\\n",
    "                                                                'No. of Employees'],axis=1).dropna().loc[(df_raw['year']==2016)&(df_raw['train_test']==0),'Dealer ID'].tolist()\n",
    "\n",
    "#calculate true positive and its cumulative\n",
    "df_test_result=df_test_result.sort_values(by=[\"Predict_Positive_Prob\"],ascending=False).reset_index(drop=True)\n",
    "df_test_result[\"True_Positive\"]=df_test_result.apply(lambda x: ((x[\"Actual\"]==x[\"Predict\"]) & (x[\"Actual\"]==1))*1,axis=1)\n",
    "df_test_result[\"Cumulative_True_Positive\"]=df_test_result[\"True_Positive\"].cumsum() #numpy\n",
    "total_true_positive=df_test_result[\"True_Positive\"].sum()\n",
    "\n",
    "#calculate % cumulative true positive counts vs % ID counts (linear)\n",
    "df_test_result[\"%_Cumulative_True_Positive\"]=df_test_result[\"Cumulative_True_Positive\"]/total_true_positive\n",
    "df_test_result[\"%_Cumulative_Count\"]=df_test_result[\"Contractor_ID\"].expanding().count()/df_test_result[\"Contractor_ID\"].count() #.expanding(): pandas\n",
    "\n",
    "df_test_result.head(10)"
   ]
  },
  {
   "cell_type": "code",
   "execution_count": 23,
   "metadata": {},
   "outputs": [
    {
     "data": {
      "text/plain": [
       "Text(0, 0.5, 'Cumulative % True Positives')"
      ]
     },
     "execution_count": 23,
     "metadata": {},
     "output_type": "execute_result"
    },
    {
     "data": {
      "image/png": "[encoded data removed]",
      "text/plain": [
       "<Figure size 432x288 with 1 Axes>"
      ]
     },
     "metadata": {
      "needs_background": "light"
     },
     "output_type": "display_data"
    }
   ],
   "source": [
    "import matplotlib.pyplot as plt\n",
    "%matplotlib inline\n",
    "plt.plot(df_test_result[\"%_Cumulative_True_Positive\"].values.tolist())\n",
    "plt.plot(df_test_result[\"%_Cumulative_Count\"].values.tolist())\n",
    "plt.xlabel('# Contractors',fontsize=12)\n",
    "plt.ylabel('Cumulative % True Positives',fontsize=12)"
   ]
  },
  {
   "cell_type": "code",
   "execution_count": 24,
   "metadata": {},
   "outputs": [
    {
     "data": {
      "text/plain": [
       "<matplotlib.legend.Legend at 0x1a256a55d0>"
      ]
     },
     "execution_count": 24,
     "metadata": {},
     "output_type": "execute_result"
    },
    {
     "data": {
      "image/png": "[encoded data removed]",
      "text/plain": [
       "<Figure size 432x288 with 1 Axes>"
      ]
     },
     "metadata": {
      "needs_background": "light"
     },
     "output_type": "display_data"
    }
   ],
   "source": [
    "from sklearn.metrics import roc_curve\n",
    "from sklearn.metrics import auc\n",
    "\n",
    "\n",
    "fpr, tpr, thresholds = roc_curve(df_test_result[\"Actual\"].values.tolist(), df_test_result[\"Predict_Positive_Prob\"].values.tolist())\n",
    "roc_auc = auc(fpr,tpr)\n",
    "\n",
    "\n",
    "plt.plot(fpr, tpr, label='ROC curve (area = %0.3f)' % roc_auc)\n",
    "plt.plot([0, 1], [0, 1], 'k--')  \n",
    "plt.xlim([0.0, 1.0])\n",
    "plt.ylim([0.0, 1.0])\n",
    "plt.xlabel('False Positive Rate or (1 - Specifity)')\n",
    "plt.ylabel('True Positive Rate or (Sensitivity)')\n",
    "plt.title('Receiver Operating Characteristic')\n",
    "plt.legend(loc=\"lower right\")"
   ]
  },
  {
   "cell_type": "code",
   "execution_count": null,
   "metadata": {},
   "outputs": [],
   "source": []
  }
 ],
 "metadata": {
  "kernelspec": {
   "display_name": "Python 3",
   "language": "python",
   "name": "python3"
  },
  "language_info": {
   "codemirror_mode": {
    "name": "ipython",
    "version": 3
   },
   "file_extension": ".py",
   "mimetype": "text/x-python",
   "name": "python",
   "nbconvert_exporter": "python",
   "pygments_lexer": "ipython3",
   "version": "3.7.4"
  }
 },
 "nbformat": 4,
 "nbformat_minor": 2
}
